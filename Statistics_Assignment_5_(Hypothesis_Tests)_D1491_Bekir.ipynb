{
  "nbformat": 4,
  "nbformat_minor": 0,
  "metadata": {
    "colab": {
      "name": "Statistics Assignment-5 (Hypothesis Tests)_D1491-Bekir.ipynb",
      "provenance": [],
      "authorship_tag": "ABX9TyNLxN1maAxwuH7TX7VJCcxo",
      "include_colab_link": true
    },
    "kernelspec": {
      "name": "python3",
      "display_name": "Python 3"
    },
    "language_info": {
      "name": "python"
    }
  },
  "cells": [
    {
      "cell_type": "markdown",
      "metadata": {
        "id": "view-in-github",
        "colab_type": "text"
      },
      "source": [
        "<a href=\"https://colab.research.google.com/github/bpunar/DATA-SCIENCE-CLARUSWAY-/blob/main/Statistics_Assignment_5_(Hypothesis_Tests)_D1491_Bekir.ipynb\" target=\"_parent\"><img src=\"https://colab.research.google.com/assets/colab-badge.svg\" alt=\"Open In Colab\"/></a>"
      ]
    },
    {
      "cell_type": "code",
      "execution_count": 147,
      "metadata": {
        "id": "XyJSh9xWcM7N"
      },
      "outputs": [],
      "source": [
        "import numpy as np\n",
        "import pandas as pd\n",
        "from scipy import stats\n",
        "import seaborn as sns\n",
        "import matplotlib.pyplot as plt"
      ]
    },
    {
      "cell_type": "code",
      "source": [
        "import scipy.stats as stats\n",
        "from math import sqrt"
      ],
      "metadata": {
        "id": "n7SbXWkghhIg"
      },
      "execution_count": null,
      "outputs": []
    },
    {
      "cell_type": "code",
      "source": [
        "from matplotlib import pyplot as plt\n",
        "import seaborn as sns"
      ],
      "metadata": {
        "id": "_kW4CQRU-o6d"
      },
      "execution_count": 191,
      "outputs": []
    },
    {
      "cell_type": "markdown",
      "source": [
        "EXERCISE 1. The hourly wages in a particular industry are normally distributed with mean 13.20 and standard deviation 2.50. A company in this industry employs 40 workers, paying them an average of $12.20 per hour. Can this company be accused of paying substandard wages? Use an α = .01 level test. (Wackerly, Ex.10.18)\n",
        "\n",
        "CHECK: statistic: -2.5298221281347035, pvalue= 0.005706018193000826\n"
      ],
      "metadata": {
        "id": "43vBPFhLoAqA"
      }
    },
    {
      "cell_type": "markdown",
      "source": [
        "Research question: Can this company be accused of paying substandard wages? \n",
        "\n",
        "H0 : This company does not pay substandard wages. (µ >=13.20 )\n",
        "\n",
        "H1 : This company does pay substandard wages. (µ <13.20 )\n",
        "\n",
        "We are interested in whether the sample mean is greater than or equal to the population mean. Therefore, we need a one-tailed (lower) hypothesis test for this test.\n",
        "\n",
        "If it is at the %1 (α = .01) significance level, the confidence level of the research will be %99.\n",
        "\n",
        "The sample was obtained from a population with a normal distribution. The population variance is known and the sample is greater than 30. Because of these given, we will use the single sample z-test.\n"
      ],
      "metadata": {
        "id": "l8uq_q1momzt"
      }
    },
    {
      "cell_type": "code",
      "source": [
        "x_bar = 12.20 # sample mean \n",
        "n = 40 # number of sample\n",
        "sigma = 2.5 # sd of population\n",
        "mu = 13.20 # Population mean \n",
        "\n",
        "z = (x_bar - mu)/(sigma/sqrt(n))\n",
        "z"
      ],
      "metadata": {
        "colab": {
          "base_uri": "https://localhost:8080/"
        },
        "id": "1GoZ_fNSh9uh",
        "outputId": "9b51950a-9da7-4c64-9d17-f3652340a3f4"
      },
      "execution_count": null,
      "outputs": [
        {
          "output_type": "execute_result",
          "data": {
            "text/plain": [
              "-2.5298221281347035"
            ]
          },
          "metadata": {},
          "execution_count": 4
        }
      ]
    },
    {
      "cell_type": "code",
      "source": [
        "stats.norm.cdf(z)"
      ],
      "metadata": {
        "colab": {
          "base_uri": "https://localhost:8080/"
        },
        "id": "zZdTOS-DiX3R",
        "outputId": "9f8eff36-810e-437d-c07d-9ec2ec8b0fbf"
      },
      "execution_count": null,
      "outputs": [
        {
          "output_type": "execute_result",
          "data": {
            "text/plain": [
              "0.005706018193000826"
            ]
          },
          "metadata": {},
          "execution_count": 5
        }
      ]
    },
    {
      "cell_type": "markdown",
      "source": [
        "Our p-value (0.0057) is lower than the alpha of 0.01. There is enough evidence to reject hypothesis H0. \n",
        "\n",
        "H0: This company does pay substandard wages. \n",
        "\n",
        "(µ >=13.20 is not true for this compmany)\n",
        "\n",
        "This company can be accused of paying substandard wages.\n"
      ],
      "metadata": {
        "id": "1O1B8lnhpGhZ"
      }
    },
    {
      "cell_type": "markdown",
      "source": [
        "EXERCISE 2. Shear strength measurements derived from unconfined compression tests for two types of soils gave the results shown in the following document (measurements in tons per square foot). Do the soils appear to differ with respect to average shear strength, at the 1% significance level?\n",
        "\n",
        "\n",
        "CHECK: statistic: 5.1681473319343345, pvalue= 2.593228732352821e-06"
      ],
      "metadata": {
        "id": "gbVo_LaypPDD"
      }
    },
    {
      "cell_type": "code",
      "source": [
        "soil1 = pd.DataFrame([1.442, 1.943, 1.11,1.912,1.553,1.641,1.499,1.347,1.685,1.578,1.866,1.653,1.665,1.64,1.976,1.754,1.589,1.976,1.863,1.932,1.57,1.613,2.054,1.55,1.714,1.896,1.737,1.74,1.708,1.548])"
      ],
      "metadata": {
        "id": "PuihlgjXpWxL"
      },
      "execution_count": null,
      "outputs": []
    },
    {
      "cell_type": "code",
      "source": [
        "soil2=pd.DataFrame([1.364, 1.878,1.337,1.828,1.371,1.428,1.119,1.373,1.589,1.714,1.26,1.492,1.395,1.778,1.611,1.202,1.542,1.094,1.557,1.053,1.183,1.367,1.144,1.151,1.561,1.192,1.489,1.379,1.501,1.277,1.593,1.172,1.51,1.74,1.355])"
      ],
      "metadata": {
        "id": "DbywwvoFqBfo"
      },
      "execution_count": null,
      "outputs": []
    },
    {
      "cell_type": "markdown",
      "source": [
        "Research question: Do the soils appear to differ with respect to average shear strength, at the 1% significance level?\n",
        "\n",
        "H0 : The soils appear no differ with respect to average shear strength.\n",
        "\n",
        "H1 : The soils appear differ with respect to average shear strength.\n",
        "\n",
        "If it is at the %1 (α = .01) significance level, the confidence level of the research will be %99.\n",
        "\n",
        "The sample was obtained from a population with unknown distribution. The population variance is unknown. Because of these given, we will use the Independent Samples T Test."
      ],
      "metadata": {
        "id": "Wk7X31s5qofM"
      }
    },
    {
      "cell_type": "code",
      "source": [
        "print(\"week1 mean value:\",np.mean(soil1))\n",
        "print(\"week2 mean value:\",np.mean(soil2))\n",
        "print(\"soil1 std value:\",np.std(soil1))\n",
        "print(\"soil2 std value:\",np.std(soil2))\n"
      ],
      "metadata": {
        "colab": {
          "base_uri": "https://localhost:8080/"
        },
        "id": "huF9iT86tFC8",
        "outputId": "b1deeda5-e1a3-4d38-a08d-d699a67f6e87"
      },
      "execution_count": null,
      "outputs": [
        {
          "output_type": "stream",
          "name": "stdout",
          "text": [
            "week1 mean value: 0    1.6918\n",
            "dtype: float64\n",
            "week2 mean value: 0    1.417114\n",
            "dtype: float64\n",
            "soil1 std value: 0    0.203425\n",
            "dtype: float64\n",
            "soil2 std value: 0    0.21603\n",
            "dtype: float64\n"
          ]
        }
      ]
    },
    {
      "cell_type": "code",
      "source": [
        "indTest = stats.ttest_ind(soil1, soil2, equal_var=True)\n",
        "indTest.statistic, indTest.pvalue"
      ],
      "metadata": {
        "colab": {
          "base_uri": "https://localhost:8080/"
        },
        "id": "w3IBFaDYwXmh",
        "outputId": "a1ff4ece-849d-4215-c432-7a4cb5f20489"
      },
      "execution_count": null,
      "outputs": [
        {
          "output_type": "execute_result",
          "data": {
            "text/plain": [
              "(array([5.16814733]), array([2.59322873e-06]))"
            ]
          },
          "metadata": {},
          "execution_count": 46
        }
      ]
    },
    {
      "cell_type": "code",
      "source": [
        "# Decision\n",
        "alpha = 0.01\n",
        "\n",
        "if indTest.pvalue < alpha:\n",
        "    print(\"Reject the null\")\n",
        "else:\n",
        "    print(\"Fail to reject the null\")"
      ],
      "metadata": {
        "colab": {
          "base_uri": "https://localhost:8080/"
        },
        "id": "PYkLHlMNzD4_",
        "outputId": "a2fe0875-63a2-4e6c-c3e9-d15411e008b0"
      },
      "execution_count": null,
      "outputs": [
        {
          "output_type": "stream",
          "name": "stdout",
          "text": [
            "Reject the null\n"
          ]
        }
      ]
    },
    {
      "cell_type": "markdown",
      "source": [
        "EXERCISE 3. The following dataset is based on data provided by the World Bank (https://datacatalog.worldbank.org/dataset/education-statistics). World Bank Edstats.\n",
        "\n",
        "1. Get descriptive statistics (the central tendency, dispersion and shape of a dataset’s distribution) for each continent group (AS, EU, AF, NA, SA, OC).\n",
        "2. Determine whether there is any difference (on the average) for the math scores among European (EU) and Asian (AS) countries (assume normality and equal variances). Draw side-by-side box plots.\n",
        "\n",
        "CHECK: statistic=0.870055317967983, pvalue=0.38826888111307345"
      ],
      "metadata": {
        "id": "PTabcHVU0b7d"
      }
    },
    {
      "cell_type": "code",
      "source": [
        "df0 = pd.read_csv(\"2015 PISA Test - Sheet1.csv\")\n",
        "df = df0.copy()"
      ],
      "metadata": {
        "id": "UYlexVxylH-w"
      },
      "execution_count": 148,
      "outputs": []
    },
    {
      "cell_type": "code",
      "source": [
        "df.sample(5)"
      ],
      "metadata": {
        "colab": {
          "base_uri": "https://localhost:8080/",
          "height": 206
        },
        "id": "CfuXnQgSlEa2",
        "outputId": "4b593d5f-7eca-492b-dcf5-095f0be03af6"
      },
      "execution_count": 149,
      "outputs": [
        {
          "output_type": "execute_result",
          "data": {
            "text/html": [
              "\n",
              "  <div id=\"df-bc430dd1-7d68-4445-afc1-4c0a46b24a1a\">\n",
              "    <div class=\"colab-df-container\">\n",
              "      <div>\n",
              "<style scoped>\n",
              "    .dataframe tbody tr th:only-of-type {\n",
              "        vertical-align: middle;\n",
              "    }\n",
              "\n",
              "    .dataframe tbody tr th {\n",
              "        vertical-align: top;\n",
              "    }\n",
              "\n",
              "    .dataframe thead th {\n",
              "        text-align: right;\n",
              "    }\n",
              "</style>\n",
              "<table border=\"1\" class=\"dataframe\">\n",
              "  <thead>\n",
              "    <tr style=\"text-align: right;\">\n",
              "      <th></th>\n",
              "      <th>Country Code</th>\n",
              "      <th>Continent_Code</th>\n",
              "      <th>internet_users_per_100</th>\n",
              "      <th>Math</th>\n",
              "      <th>Reading</th>\n",
              "      <th>Science</th>\n",
              "    </tr>\n",
              "  </thead>\n",
              "  <tbody>\n",
              "    <tr>\n",
              "      <th>66</th>\n",
              "      <td>TUR</td>\n",
              "      <td>EU</td>\n",
              "      <td>53.744979</td>\n",
              "      <td>420.4540</td>\n",
              "      <td>428.3351</td>\n",
              "      <td>425.4895</td>\n",
              "    </tr>\n",
              "    <tr>\n",
              "      <th>54</th>\n",
              "      <td>POL</td>\n",
              "      <td>EU</td>\n",
              "      <td>67.997000</td>\n",
              "      <td>504.4693</td>\n",
              "      <td>505.6971</td>\n",
              "      <td>501.4353</td>\n",
              "    </tr>\n",
              "    <tr>\n",
              "      <th>65</th>\n",
              "      <td>TUN</td>\n",
              "      <td>AF</td>\n",
              "      <td>48.519836</td>\n",
              "      <td>366.8180</td>\n",
              "      <td>361.0555</td>\n",
              "      <td>386.4034</td>\n",
              "    </tr>\n",
              "    <tr>\n",
              "      <th>34</th>\n",
              "      <td>ITA</td>\n",
              "      <td>EU</td>\n",
              "      <td>58.141735</td>\n",
              "      <td>489.7287</td>\n",
              "      <td>484.7580</td>\n",
              "      <td>480.5468</td>\n",
              "    </tr>\n",
              "    <tr>\n",
              "      <th>10</th>\n",
              "      <td>CHL</td>\n",
              "      <td>SA</td>\n",
              "      <td>64.289000</td>\n",
              "      <td>422.6714</td>\n",
              "      <td>458.5709</td>\n",
              "      <td>446.9561</td>\n",
              "    </tr>\n",
              "  </tbody>\n",
              "</table>\n",
              "</div>\n",
              "      <button class=\"colab-df-convert\" onclick=\"convertToInteractive('df-bc430dd1-7d68-4445-afc1-4c0a46b24a1a')\"\n",
              "              title=\"Convert this dataframe to an interactive table.\"\n",
              "              style=\"display:none;\">\n",
              "        \n",
              "  <svg xmlns=\"http://www.w3.org/2000/svg\" height=\"24px\"viewBox=\"0 0 24 24\"\n",
              "       width=\"24px\">\n",
              "    <path d=\"M0 0h24v24H0V0z\" fill=\"none\"/>\n",
              "    <path d=\"M18.56 5.44l.94 2.06.94-2.06 2.06-.94-2.06-.94-.94-2.06-.94 2.06-2.06.94zm-11 1L8.5 8.5l.94-2.06 2.06-.94-2.06-.94L8.5 2.5l-.94 2.06-2.06.94zm10 10l.94 2.06.94-2.06 2.06-.94-2.06-.94-.94-2.06-.94 2.06-2.06.94z\"/><path d=\"M17.41 7.96l-1.37-1.37c-.4-.4-.92-.59-1.43-.59-.52 0-1.04.2-1.43.59L10.3 9.45l-7.72 7.72c-.78.78-.78 2.05 0 2.83L4 21.41c.39.39.9.59 1.41.59.51 0 1.02-.2 1.41-.59l7.78-7.78 2.81-2.81c.8-.78.8-2.07 0-2.86zM5.41 20L4 18.59l7.72-7.72 1.47 1.35L5.41 20z\"/>\n",
              "  </svg>\n",
              "      </button>\n",
              "      \n",
              "  <style>\n",
              "    .colab-df-container {\n",
              "      display:flex;\n",
              "      flex-wrap:wrap;\n",
              "      gap: 12px;\n",
              "    }\n",
              "\n",
              "    .colab-df-convert {\n",
              "      background-color: #E8F0FE;\n",
              "      border: none;\n",
              "      border-radius: 50%;\n",
              "      cursor: pointer;\n",
              "      display: none;\n",
              "      fill: #1967D2;\n",
              "      height: 32px;\n",
              "      padding: 0 0 0 0;\n",
              "      width: 32px;\n",
              "    }\n",
              "\n",
              "    .colab-df-convert:hover {\n",
              "      background-color: #E2EBFA;\n",
              "      box-shadow: 0px 1px 2px rgba(60, 64, 67, 0.3), 0px 1px 3px 1px rgba(60, 64, 67, 0.15);\n",
              "      fill: #174EA6;\n",
              "    }\n",
              "\n",
              "    [theme=dark] .colab-df-convert {\n",
              "      background-color: #3B4455;\n",
              "      fill: #D2E3FC;\n",
              "    }\n",
              "\n",
              "    [theme=dark] .colab-df-convert:hover {\n",
              "      background-color: #434B5C;\n",
              "      box-shadow: 0px 1px 3px 1px rgba(0, 0, 0, 0.15);\n",
              "      filter: drop-shadow(0px 1px 2px rgba(0, 0, 0, 0.3));\n",
              "      fill: #FFFFFF;\n",
              "    }\n",
              "  </style>\n",
              "\n",
              "      <script>\n",
              "        const buttonEl =\n",
              "          document.querySelector('#df-bc430dd1-7d68-4445-afc1-4c0a46b24a1a button.colab-df-convert');\n",
              "        buttonEl.style.display =\n",
              "          google.colab.kernel.accessAllowed ? 'block' : 'none';\n",
              "\n",
              "        async function convertToInteractive(key) {\n",
              "          const element = document.querySelector('#df-bc430dd1-7d68-4445-afc1-4c0a46b24a1a');\n",
              "          const dataTable =\n",
              "            await google.colab.kernel.invokeFunction('convertToInteractive',\n",
              "                                                     [key], {});\n",
              "          if (!dataTable) return;\n",
              "\n",
              "          const docLinkHtml = 'Like what you see? Visit the ' +\n",
              "            '<a target=\"_blank\" href=https://colab.research.google.com/notebooks/data_table.ipynb>data table notebook</a>'\n",
              "            + ' to learn more about interactive tables.';\n",
              "          element.innerHTML = '';\n",
              "          dataTable['output_type'] = 'display_data';\n",
              "          await google.colab.output.renderOutput(dataTable, element);\n",
              "          const docLink = document.createElement('div');\n",
              "          docLink.innerHTML = docLinkHtml;\n",
              "          element.appendChild(docLink);\n",
              "        }\n",
              "      </script>\n",
              "    </div>\n",
              "  </div>\n",
              "  "
            ],
            "text/plain": [
              "   Country Code Continent_Code  ...   Reading   Science\n",
              "66          TUR             EU  ...  428.3351  425.4895\n",
              "54          POL             EU  ...  505.6971  501.4353\n",
              "65          TUN             AF  ...  361.0555  386.4034\n",
              "34          ITA             EU  ...  484.7580  480.5468\n",
              "10          CHL             SA  ...  458.5709  446.9561\n",
              "\n",
              "[5 rows x 6 columns]"
            ]
          },
          "metadata": {},
          "execution_count": 149
        }
      ]
    },
    {
      "cell_type": "code",
      "source": [
        "df0.info()"
      ],
      "metadata": {
        "colab": {
          "base_uri": "https://localhost:8080/"
        },
        "id": "pcGq8gR_z1Kf",
        "outputId": "3bd3d4d6-385e-4937-f041-f429de938554"
      },
      "execution_count": 150,
      "outputs": [
        {
          "output_type": "stream",
          "name": "stdout",
          "text": [
            "<class 'pandas.core.frame.DataFrame'>\n",
            "RangeIndex: 70 entries, 0 to 69\n",
            "Data columns (total 6 columns):\n",
            " #   Column                  Non-Null Count  Dtype  \n",
            "---  ------                  --------------  -----  \n",
            " 0   Country Code            70 non-null     object \n",
            " 1   Continent_Code          65 non-null     object \n",
            " 2   internet_users_per_100  70 non-null     float64\n",
            " 3   Math                    70 non-null     float64\n",
            " 4   Reading                 70 non-null     float64\n",
            " 5   Science                 70 non-null     float64\n",
            "dtypes: float64(4), object(2)\n",
            "memory usage: 3.4+ KB\n"
          ]
        }
      ]
    },
    {
      "cell_type": "markdown",
      "source": [
        "1. Get descriptive statistics (the central tendency, dispersion and shape of a dataset’s distribution) for each continent group (AS, EU, AF, NA, SA, OC)."
      ],
      "metadata": {
        "id": "jP_biknt83l9"
      }
    },
    {
      "cell_type": "code",
      "source": [
        "df0.groupby(\"Continent_Code\").describe().T"
      ],
      "metadata": {
        "colab": {
          "base_uri": "https://localhost:8080/",
          "height": 1000
        },
        "id": "c8uPhm0d851a",
        "outputId": "897d26f8-d29b-46ea-ced9-1ed819688360"
      },
      "execution_count": 190,
      "outputs": [
        {
          "output_type": "execute_result",
          "data": {
            "text/html": [
              "\n",
              "  <div id=\"df-f83d58cc-a406-4516-b582-76d5bba9fc9d\">\n",
              "    <div class=\"colab-df-container\">\n",
              "      <div>\n",
              "<style scoped>\n",
              "    .dataframe tbody tr th:only-of-type {\n",
              "        vertical-align: middle;\n",
              "    }\n",
              "\n",
              "    .dataframe tbody tr th {\n",
              "        vertical-align: top;\n",
              "    }\n",
              "\n",
              "    .dataframe thead th {\n",
              "        text-align: right;\n",
              "    }\n",
              "</style>\n",
              "<table border=\"1\" class=\"dataframe\">\n",
              "  <thead>\n",
              "    <tr style=\"text-align: right;\">\n",
              "      <th></th>\n",
              "      <th>Continent_Code</th>\n",
              "      <th>AF</th>\n",
              "      <th>AS</th>\n",
              "      <th>EU</th>\n",
              "      <th>OC</th>\n",
              "      <th>SA</th>\n",
              "    </tr>\n",
              "  </thead>\n",
              "  <tbody>\n",
              "    <tr>\n",
              "      <th rowspan=\"8\" valign=\"top\">internet_users_per_100</th>\n",
              "      <th>count</th>\n",
              "      <td>2.000000</td>\n",
              "      <td>17.000000</td>\n",
              "      <td>37.000000</td>\n",
              "      <td>2.000000</td>\n",
              "      <td>7.000000</td>\n",
              "    </tr>\n",
              "    <tr>\n",
              "      <th>mean</th>\n",
              "      <td>43.359918</td>\n",
              "      <td>68.455613</td>\n",
              "      <td>77.274888</td>\n",
              "      <td>86.391704</td>\n",
              "      <td>60.180494</td>\n",
              "    </tr>\n",
              "    <tr>\n",
              "      <th>std</th>\n",
              "      <td>7.297226</td>\n",
              "      <td>21.086060</td>\n",
              "      <td>12.425773</td>\n",
              "      <td>2.589686</td>\n",
              "      <td>9.772455</td>\n",
              "    </tr>\n",
              "    <tr>\n",
              "      <th>min</th>\n",
              "      <td>38.200000</td>\n",
              "      <td>21.976068</td>\n",
              "      <td>53.744979</td>\n",
              "      <td>84.560519</td>\n",
              "      <td>40.900000</td>\n",
              "    </tr>\n",
              "    <tr>\n",
              "      <th>25%</th>\n",
              "      <td>40.779959</td>\n",
              "      <td>50.300000</td>\n",
              "      <td>68.632900</td>\n",
              "      <td>85.476112</td>\n",
              "      <td>57.116462</td>\n",
              "    </tr>\n",
              "    <tr>\n",
              "      <th>50%</th>\n",
              "      <td>43.359918</td>\n",
              "      <td>74.000000</td>\n",
              "      <td>76.184000</td>\n",
              "      <td>86.391704</td>\n",
              "      <td>64.289000</td>\n",
              "    </tr>\n",
              "    <tr>\n",
              "      <th>75%</th>\n",
              "      <td>45.939877</td>\n",
              "      <td>84.948353</td>\n",
              "      <td>87.479056</td>\n",
              "      <td>87.307296</td>\n",
              "      <td>66.321532</td>\n",
              "    </tr>\n",
              "    <tr>\n",
              "      <th>max</th>\n",
              "      <td>48.519836</td>\n",
              "      <td>92.884826</td>\n",
              "      <td>98.200000</td>\n",
              "      <td>88.222889</td>\n",
              "      <td>69.198471</td>\n",
              "    </tr>\n",
              "    <tr>\n",
              "      <th rowspan=\"8\" valign=\"top\">Math</th>\n",
              "      <th>count</th>\n",
              "      <td>2.000000</td>\n",
              "      <td>17.000000</td>\n",
              "      <td>37.000000</td>\n",
              "      <td>2.000000</td>\n",
              "      <td>7.000000</td>\n",
              "    </tr>\n",
              "    <tr>\n",
              "      <th>mean</th>\n",
              "      <td>363.212100</td>\n",
              "      <td>466.216647</td>\n",
              "      <td>477.981449</td>\n",
              "      <td>494.559750</td>\n",
              "      <td>402.887700</td>\n",
              "    </tr>\n",
              "    <tr>\n",
              "      <th>std</th>\n",
              "      <td>5.099513</td>\n",
              "      <td>64.356490</td>\n",
              "      <td>35.150403</td>\n",
              "      <td>0.938401</td>\n",
              "      <td>18.128894</td>\n",
              "    </tr>\n",
              "    <tr>\n",
              "      <th>min</th>\n",
              "      <td>359.606200</td>\n",
              "      <td>380.259000</td>\n",
              "      <td>371.311400</td>\n",
              "      <td>493.896200</td>\n",
              "      <td>377.069500</td>\n",
              "    </tr>\n",
              "    <tr>\n",
              "      <th>25%</th>\n",
              "      <td>361.409150</td>\n",
              "      <td>403.833200</td>\n",
              "      <td>464.040100</td>\n",
              "      <td>494.227975</td>\n",
              "      <td>388.102200</td>\n",
              "    </tr>\n",
              "    <tr>\n",
              "      <th>50%</th>\n",
              "      <td>363.212100</td>\n",
              "      <td>459.816000</td>\n",
              "      <td>489.728700</td>\n",
              "      <td>494.559750</td>\n",
              "      <td>409.033300</td>\n",
              "    </tr>\n",
              "    <tr>\n",
              "      <th>75%</th>\n",
              "      <td>365.015050</td>\n",
              "      <td>531.296100</td>\n",
              "      <td>503.722000</td>\n",
              "      <td>494.891525</td>\n",
              "      <td>417.617650</td>\n",
              "    </tr>\n",
              "    <tr>\n",
              "      <th>max</th>\n",
              "      <td>366.818000</td>\n",
              "      <td>564.189700</td>\n",
              "      <td>521.250600</td>\n",
              "      <td>495.223300</td>\n",
              "      <td>422.671400</td>\n",
              "    </tr>\n",
              "    <tr>\n",
              "      <th rowspan=\"8\" valign=\"top\">Reading</th>\n",
              "      <th>count</th>\n",
              "      <td>2.000000</td>\n",
              "      <td>17.000000</td>\n",
              "      <td>37.000000</td>\n",
              "      <td>2.000000</td>\n",
              "      <td>7.000000</td>\n",
              "    </tr>\n",
              "    <tr>\n",
              "      <th>mean</th>\n",
              "      <td>355.457400</td>\n",
              "      <td>454.059682</td>\n",
              "      <td>476.164608</td>\n",
              "      <td>506.085650</td>\n",
              "      <td>425.359229</td>\n",
              "    </tr>\n",
              "    <tr>\n",
              "      <th>std</th>\n",
              "      <td>7.916909</td>\n",
              "      <td>57.048962</td>\n",
              "      <td>37.720545</td>\n",
              "      <td>4.504341</td>\n",
              "      <td>19.709688</td>\n",
              "    </tr>\n",
              "    <tr>\n",
              "      <th>min</th>\n",
              "      <td>349.859300</td>\n",
              "      <td>346.549000</td>\n",
              "      <td>351.741500</td>\n",
              "      <td>502.900600</td>\n",
              "      <td>397.541400</td>\n",
              "    </tr>\n",
              "    <tr>\n",
              "      <th>25%</th>\n",
              "      <td>352.658350</td>\n",
              "      <td>408.102200</td>\n",
              "      <td>452.514300</td>\n",
              "      <td>504.493125</td>\n",
              "      <td>416.126900</td>\n",
              "    </tr>\n",
              "    <tr>\n",
              "      <th>50%</th>\n",
              "      <td>355.457400</td>\n",
              "      <td>433.542300</td>\n",
              "      <td>487.250100</td>\n",
              "      <td>506.085650</td>\n",
              "      <td>425.303100</td>\n",
              "    </tr>\n",
              "    <tr>\n",
              "      <th>75%</th>\n",
              "      <td>358.256450</td>\n",
              "      <td>508.690500</td>\n",
              "      <td>499.814600</td>\n",
              "      <td>507.678175</td>\n",
              "      <td>431.922700</td>\n",
              "    </tr>\n",
              "    <tr>\n",
              "      <th>max</th>\n",
              "      <td>361.055500</td>\n",
              "      <td>535.100200</td>\n",
              "      <td>526.424700</td>\n",
              "      <td>509.270700</td>\n",
              "      <td>458.570900</td>\n",
              "    </tr>\n",
              "    <tr>\n",
              "      <th rowspan=\"8\" valign=\"top\">Science</th>\n",
              "      <th>count</th>\n",
              "      <td>2.000000</td>\n",
              "      <td>17.000000</td>\n",
              "      <td>37.000000</td>\n",
              "      <td>2.000000</td>\n",
              "      <td>7.000000</td>\n",
              "    </tr>\n",
              "    <tr>\n",
              "      <th>mean</th>\n",
              "      <td>381.074250</td>\n",
              "      <td>467.945847</td>\n",
              "      <td>478.299381</td>\n",
              "      <td>511.648700</td>\n",
              "      <td>421.747186</td>\n",
              "    </tr>\n",
              "    <tr>\n",
              "      <th>std</th>\n",
              "      <td>7.536556</td>\n",
              "      <td>56.671371</td>\n",
              "      <td>34.450616</td>\n",
              "      <td>2.340241</td>\n",
              "      <td>18.470319</td>\n",
              "    </tr>\n",
              "    <tr>\n",
              "      <th>min</th>\n",
              "      <td>375.745100</td>\n",
              "      <td>386.485400</td>\n",
              "      <td>383.682400</td>\n",
              "      <td>509.993900</td>\n",
              "      <td>396.683600</td>\n",
              "    </tr>\n",
              "    <tr>\n",
              "      <th>25%</th>\n",
              "      <td>378.409675</td>\n",
              "      <td>417.611200</td>\n",
              "      <td>460.774900</td>\n",
              "      <td>510.821300</td>\n",
              "      <td>408.205450</td>\n",
              "    </tr>\n",
              "    <tr>\n",
              "      <th>50%</th>\n",
              "      <td>381.074250</td>\n",
              "      <td>456.483600</td>\n",
              "      <td>490.225000</td>\n",
              "      <td>511.648700</td>\n",
              "      <td>424.590500</td>\n",
              "    </tr>\n",
              "    <tr>\n",
              "      <th>75%</th>\n",
              "      <td>383.738825</td>\n",
              "      <td>523.277400</td>\n",
              "      <td>501.936900</td>\n",
              "      <td>512.476100</td>\n",
              "      <td>433.794600</td>\n",
              "    </tr>\n",
              "    <tr>\n",
              "      <th>max</th>\n",
              "      <td>386.403400</td>\n",
              "      <td>555.574700</td>\n",
              "      <td>534.193700</td>\n",
              "      <td>513.303500</td>\n",
              "      <td>446.956100</td>\n",
              "    </tr>\n",
              "  </tbody>\n",
              "</table>\n",
              "</div>\n",
              "      <button class=\"colab-df-convert\" onclick=\"convertToInteractive('df-f83d58cc-a406-4516-b582-76d5bba9fc9d')\"\n",
              "              title=\"Convert this dataframe to an interactive table.\"\n",
              "              style=\"display:none;\">\n",
              "        \n",
              "  <svg xmlns=\"http://www.w3.org/2000/svg\" height=\"24px\"viewBox=\"0 0 24 24\"\n",
              "       width=\"24px\">\n",
              "    <path d=\"M0 0h24v24H0V0z\" fill=\"none\"/>\n",
              "    <path d=\"M18.56 5.44l.94 2.06.94-2.06 2.06-.94-2.06-.94-.94-2.06-.94 2.06-2.06.94zm-11 1L8.5 8.5l.94-2.06 2.06-.94-2.06-.94L8.5 2.5l-.94 2.06-2.06.94zm10 10l.94 2.06.94-2.06 2.06-.94-2.06-.94-.94-2.06-.94 2.06-2.06.94z\"/><path d=\"M17.41 7.96l-1.37-1.37c-.4-.4-.92-.59-1.43-.59-.52 0-1.04.2-1.43.59L10.3 9.45l-7.72 7.72c-.78.78-.78 2.05 0 2.83L4 21.41c.39.39.9.59 1.41.59.51 0 1.02-.2 1.41-.59l7.78-7.78 2.81-2.81c.8-.78.8-2.07 0-2.86zM5.41 20L4 18.59l7.72-7.72 1.47 1.35L5.41 20z\"/>\n",
              "  </svg>\n",
              "      </button>\n",
              "      \n",
              "  <style>\n",
              "    .colab-df-container {\n",
              "      display:flex;\n",
              "      flex-wrap:wrap;\n",
              "      gap: 12px;\n",
              "    }\n",
              "\n",
              "    .colab-df-convert {\n",
              "      background-color: #E8F0FE;\n",
              "      border: none;\n",
              "      border-radius: 50%;\n",
              "      cursor: pointer;\n",
              "      display: none;\n",
              "      fill: #1967D2;\n",
              "      height: 32px;\n",
              "      padding: 0 0 0 0;\n",
              "      width: 32px;\n",
              "    }\n",
              "\n",
              "    .colab-df-convert:hover {\n",
              "      background-color: #E2EBFA;\n",
              "      box-shadow: 0px 1px 2px rgba(60, 64, 67, 0.3), 0px 1px 3px 1px rgba(60, 64, 67, 0.15);\n",
              "      fill: #174EA6;\n",
              "    }\n",
              "\n",
              "    [theme=dark] .colab-df-convert {\n",
              "      background-color: #3B4455;\n",
              "      fill: #D2E3FC;\n",
              "    }\n",
              "\n",
              "    [theme=dark] .colab-df-convert:hover {\n",
              "      background-color: #434B5C;\n",
              "      box-shadow: 0px 1px 3px 1px rgba(0, 0, 0, 0.15);\n",
              "      filter: drop-shadow(0px 1px 2px rgba(0, 0, 0, 0.3));\n",
              "      fill: #FFFFFF;\n",
              "    }\n",
              "  </style>\n",
              "\n",
              "      <script>\n",
              "        const buttonEl =\n",
              "          document.querySelector('#df-f83d58cc-a406-4516-b582-76d5bba9fc9d button.colab-df-convert');\n",
              "        buttonEl.style.display =\n",
              "          google.colab.kernel.accessAllowed ? 'block' : 'none';\n",
              "\n",
              "        async function convertToInteractive(key) {\n",
              "          const element = document.querySelector('#df-f83d58cc-a406-4516-b582-76d5bba9fc9d');\n",
              "          const dataTable =\n",
              "            await google.colab.kernel.invokeFunction('convertToInteractive',\n",
              "                                                     [key], {});\n",
              "          if (!dataTable) return;\n",
              "\n",
              "          const docLinkHtml = 'Like what you see? Visit the ' +\n",
              "            '<a target=\"_blank\" href=https://colab.research.google.com/notebooks/data_table.ipynb>data table notebook</a>'\n",
              "            + ' to learn more about interactive tables.';\n",
              "          element.innerHTML = '';\n",
              "          dataTable['output_type'] = 'display_data';\n",
              "          await google.colab.output.renderOutput(dataTable, element);\n",
              "          const docLink = document.createElement('div');\n",
              "          docLink.innerHTML = docLinkHtml;\n",
              "          element.appendChild(docLink);\n",
              "        }\n",
              "      </script>\n",
              "    </div>\n",
              "  </div>\n",
              "  "
            ],
            "text/plain": [
              "Continent_Code                        AF          AS  ...          OC          SA\n",
              "internet_users_per_100 count    2.000000   17.000000  ...    2.000000    7.000000\n",
              "                       mean    43.359918   68.455613  ...   86.391704   60.180494\n",
              "                       std      7.297226   21.086060  ...    2.589686    9.772455\n",
              "                       min     38.200000   21.976068  ...   84.560519   40.900000\n",
              "                       25%     40.779959   50.300000  ...   85.476112   57.116462\n",
              "                       50%     43.359918   74.000000  ...   86.391704   64.289000\n",
              "                       75%     45.939877   84.948353  ...   87.307296   66.321532\n",
              "                       max     48.519836   92.884826  ...   88.222889   69.198471\n",
              "Math                   count    2.000000   17.000000  ...    2.000000    7.000000\n",
              "                       mean   363.212100  466.216647  ...  494.559750  402.887700\n",
              "                       std      5.099513   64.356490  ...    0.938401   18.128894\n",
              "                       min    359.606200  380.259000  ...  493.896200  377.069500\n",
              "                       25%    361.409150  403.833200  ...  494.227975  388.102200\n",
              "                       50%    363.212100  459.816000  ...  494.559750  409.033300\n",
              "                       75%    365.015050  531.296100  ...  494.891525  417.617650\n",
              "                       max    366.818000  564.189700  ...  495.223300  422.671400\n",
              "Reading                count    2.000000   17.000000  ...    2.000000    7.000000\n",
              "                       mean   355.457400  454.059682  ...  506.085650  425.359229\n",
              "                       std      7.916909   57.048962  ...    4.504341   19.709688\n",
              "                       min    349.859300  346.549000  ...  502.900600  397.541400\n",
              "                       25%    352.658350  408.102200  ...  504.493125  416.126900\n",
              "                       50%    355.457400  433.542300  ...  506.085650  425.303100\n",
              "                       75%    358.256450  508.690500  ...  507.678175  431.922700\n",
              "                       max    361.055500  535.100200  ...  509.270700  458.570900\n",
              "Science                count    2.000000   17.000000  ...    2.000000    7.000000\n",
              "                       mean   381.074250  467.945847  ...  511.648700  421.747186\n",
              "                       std      7.536556   56.671371  ...    2.340241   18.470319\n",
              "                       min    375.745100  386.485400  ...  509.993900  396.683600\n",
              "                       25%    378.409675  417.611200  ...  510.821300  408.205450\n",
              "                       50%    381.074250  456.483600  ...  511.648700  424.590500\n",
              "                       75%    383.738825  523.277400  ...  512.476100  433.794600\n",
              "                       max    386.403400  555.574700  ...  513.303500  446.956100\n",
              "\n",
              "[32 rows x 5 columns]"
            ]
          },
          "metadata": {},
          "execution_count": 190
        }
      ]
    },
    {
      "cell_type": "code",
      "source": [
        "plt.figure(figsize = (12,8))\n",
        "sns.boxplot(data=df0, x=\"Continent_Code\", y=\"internet_users_per_100\");\n"
      ],
      "metadata": {
        "colab": {
          "base_uri": "https://localhost:8080/",
          "height": 498
        },
        "id": "-vHgJHHO-RzM",
        "outputId": "f45c236c-c93d-486d-bfe2-078d6326a2d7"
      },
      "execution_count": 222,
      "outputs": [
        {
          "output_type": "display_data",
          "data": {
            "image/png": "[encoded data removed]",
            "text/plain": [
              "<Figure size 864x576 with 1 Axes>"
            ]
          },
          "metadata": {
            "needs_background": "light"
          }
        }
      ]
    },
    {
      "cell_type": "code",
      "source": [
        "plt.figure(figsize = (12,8))\n",
        "sns.boxplot(data=df0, x=\"Continent_Code\", y=\"Math\");"
      ],
      "metadata": {
        "colab": {
          "base_uri": "https://localhost:8080/",
          "height": 498
        },
        "id": "0DFI3HJqEmlf",
        "outputId": "325eb809-0e03-48be-96ed-bb0a53edaa64"
      },
      "execution_count": 224,
      "outputs": [
        {
          "output_type": "display_data",
          "data": {
            "image/png": "[encoded data removed]",
            "text/plain": [
              "<Figure size 864x576 with 1 Axes>"
            ]
          },
          "metadata": {
            "needs_background": "light"
          }
        }
      ]
    },
    {
      "cell_type": "code",
      "source": [
        "plt.figure(figsize = (12,8))\n",
        "sns.boxplot(data=df0, x=\"Continent_Code\", y=\"Reading\");"
      ],
      "metadata": {
        "colab": {
          "base_uri": "https://localhost:8080/",
          "height": 498
        },
        "id": "QCt7Tj0VEgIX",
        "outputId": "82b4a337-824f-4987-81ed-a3f8a7850978"
      },
      "execution_count": 225,
      "outputs": [
        {
          "output_type": "display_data",
          "data": {
            "image/png": "[encoded data removed]",
            "text/plain": [
              "<Figure size 864x576 with 1 Axes>"
            ]
          },
          "metadata": {
            "needs_background": "light"
          }
        }
      ]
    },
    {
      "cell_type": "code",
      "source": [
        "plt.figure(figsize = (12,8))\n",
        "sns.boxplot(data=df0, x=\"Continent_Code\", y=\"Science\");\n",
        "plt.show()"
      ],
      "metadata": {
        "colab": {
          "base_uri": "https://localhost:8080/",
          "height": 498
        },
        "id": "ADJbnDIZD4Z_",
        "outputId": "58a1182e-6e0d-4900-92f9-59d4371564e3"
      },
      "execution_count": 226,
      "outputs": [
        {
          "output_type": "display_data",
          "data": {
            "image/png": "[encoded data removed]",
            "text/plain": [
              "<Figure size 864x576 with 1 Axes>"
            ]
          },
          "metadata": {
            "needs_background": "light"
          }
        }
      ]
    },
    {
      "cell_type": "markdown",
      "source": [
        "2. Determine whether there is any difference (on the average) for the math scores among European (EU) and Asian (AS) countries (assume normality and equal variances). Draw side-by-side box plots."
      ],
      "metadata": {
        "id": "uNxJd5rtwDlo"
      }
    },
    {
      "cell_type": "code",
      "source": [
        "df = df0.loc[:,[\"Continent_Code\",\"Math\"]]"
      ],
      "metadata": {
        "id": "5RgkomLYyrhb"
      },
      "execution_count": 156,
      "outputs": []
    },
    {
      "cell_type": "code",
      "source": [
        "df2=pd.DataFrame(df[(df[\"Continent_Code\"]==\"EU\")|(df[\"Continent_Code\"]==\"AS\")])\n",
        "df2.Continent_Code.value_counts()"
      ],
      "metadata": {
        "colab": {
          "base_uri": "https://localhost:8080/"
        },
        "id": "WYtgxHBizFRF",
        "outputId": "d5ed3016-2bc0-4938-8338-07f52d5ab984"
      },
      "execution_count": 154,
      "outputs": [
        {
          "output_type": "execute_result",
          "data": {
            "text/plain": [
              "EU    37\n",
              "AS    17\n",
              "Name: Continent_Code, dtype: int64"
            ]
          },
          "metadata": {},
          "execution_count": 154
        }
      ]
    },
    {
      "cell_type": "code",
      "source": [
        "df3=pd.DataFrame(df[(df[\"Continent_Code\"]==\"EU\")])\n",
        "df4=pd.DataFrame(df[(df[\"Continent_Code\"]==\"AS\")])\n",
        "df4"
      ],
      "metadata": {
        "colab": {
          "base_uri": "https://localhost:8080/",
          "height": 582
        },
        "id": "Sw7yPKGR31nk",
        "outputId": "b8d90c5d-a7be-4ea0-fc9c-a3360975b254"
      },
      "execution_count": 161,
      "outputs": [
        {
          "output_type": "execute_result",
          "data": {
            "text/html": [
              "\n",
              "  <div id=\"df-4fa69ade-2b0b-4bf3-9498-f8caf2b84539\">\n",
              "    <div class=\"colab-df-container\">\n",
              "      <div>\n",
              "<style scoped>\n",
              "    .dataframe tbody tr th:only-of-type {\n",
              "        vertical-align: middle;\n",
              "    }\n",
              "\n",
              "    .dataframe tbody tr th {\n",
              "        vertical-align: top;\n",
              "    }\n",
              "\n",
              "    .dataframe thead th {\n",
              "        text-align: right;\n",
              "    }\n",
              "</style>\n",
              "<table border=\"1\" class=\"dataframe\">\n",
              "  <thead>\n",
              "    <tr style=\"text-align: right;\">\n",
              "      <th></th>\n",
              "      <th>Continent_Code</th>\n",
              "      <th>Math</th>\n",
              "    </tr>\n",
              "  </thead>\n",
              "  <tbody>\n",
              "    <tr>\n",
              "      <th>1</th>\n",
              "      <td>AS</td>\n",
              "      <td>427.4827</td>\n",
              "    </tr>\n",
              "    <tr>\n",
              "      <th>11</th>\n",
              "      <td>AS</td>\n",
              "      <td>531.2961</td>\n",
              "    </tr>\n",
              "    <tr>\n",
              "      <th>25</th>\n",
              "      <td>AS</td>\n",
              "      <td>403.8332</td>\n",
              "    </tr>\n",
              "    <tr>\n",
              "      <th>27</th>\n",
              "      <td>AS</td>\n",
              "      <td>547.9310</td>\n",
              "    </tr>\n",
              "    <tr>\n",
              "      <th>30</th>\n",
              "      <td>AS</td>\n",
              "      <td>386.1096</td>\n",
              "    </tr>\n",
              "    <tr>\n",
              "      <th>33</th>\n",
              "      <td>AS</td>\n",
              "      <td>469.6695</td>\n",
              "    </tr>\n",
              "    <tr>\n",
              "      <th>35</th>\n",
              "      <td>AS</td>\n",
              "      <td>380.2590</td>\n",
              "    </tr>\n",
              "    <tr>\n",
              "      <th>36</th>\n",
              "      <td>AS</td>\n",
              "      <td>532.4399</td>\n",
              "    </tr>\n",
              "    <tr>\n",
              "      <th>37</th>\n",
              "      <td>AS</td>\n",
              "      <td>459.8160</td>\n",
              "    </tr>\n",
              "    <tr>\n",
              "      <th>38</th>\n",
              "      <td>AS</td>\n",
              "      <td>524.1062</td>\n",
              "    </tr>\n",
              "    <tr>\n",
              "      <th>39</th>\n",
              "      <td>AS</td>\n",
              "      <td>396.2497</td>\n",
              "    </tr>\n",
              "    <tr>\n",
              "      <th>43</th>\n",
              "      <td>AS</td>\n",
              "      <td>543.8078</td>\n",
              "    </tr>\n",
              "    <tr>\n",
              "      <th>49</th>\n",
              "      <td>AS</td>\n",
              "      <td>446.1098</td>\n",
              "    </tr>\n",
              "    <tr>\n",
              "      <th>56</th>\n",
              "      <td>AS</td>\n",
              "      <td>402.4007</td>\n",
              "    </tr>\n",
              "    <tr>\n",
              "      <th>59</th>\n",
              "      <td>AS</td>\n",
              "      <td>564.1897</td>\n",
              "    </tr>\n",
              "    <tr>\n",
              "      <th>63</th>\n",
              "      <td>AS</td>\n",
              "      <td>415.4638</td>\n",
              "    </tr>\n",
              "    <tr>\n",
              "      <th>69</th>\n",
              "      <td>AS</td>\n",
              "      <td>494.5183</td>\n",
              "    </tr>\n",
              "  </tbody>\n",
              "</table>\n",
              "</div>\n",
              "      <button class=\"colab-df-convert\" onclick=\"convertToInteractive('df-4fa69ade-2b0b-4bf3-9498-f8caf2b84539')\"\n",
              "              title=\"Convert this dataframe to an interactive table.\"\n",
              "              style=\"display:none;\">\n",
              "        \n",
              "  <svg xmlns=\"http://www.w3.org/2000/svg\" height=\"24px\"viewBox=\"0 0 24 24\"\n",
              "       width=\"24px\">\n",
              "    <path d=\"M0 0h24v24H0V0z\" fill=\"none\"/>\n",
              "    <path d=\"M18.56 5.44l.94 2.06.94-2.06 2.06-.94-2.06-.94-.94-2.06-.94 2.06-2.06.94zm-11 1L8.5 8.5l.94-2.06 2.06-.94-2.06-.94L8.5 2.5l-.94 2.06-2.06.94zm10 10l.94 2.06.94-2.06 2.06-.94-2.06-.94-.94-2.06-.94 2.06-2.06.94z\"/><path d=\"M17.41 7.96l-1.37-1.37c-.4-.4-.92-.59-1.43-.59-.52 0-1.04.2-1.43.59L10.3 9.45l-7.72 7.72c-.78.78-.78 2.05 0 2.83L4 21.41c.39.39.9.59 1.41.59.51 0 1.02-.2 1.41-.59l7.78-7.78 2.81-2.81c.8-.78.8-2.07 0-2.86zM5.41 20L4 18.59l7.72-7.72 1.47 1.35L5.41 20z\"/>\n",
              "  </svg>\n",
              "      </button>\n",
              "      \n",
              "  <style>\n",
              "    .colab-df-container {\n",
              "      display:flex;\n",
              "      flex-wrap:wrap;\n",
              "      gap: 12px;\n",
              "    }\n",
              "\n",
              "    .colab-df-convert {\n",
              "      background-color: #E8F0FE;\n",
              "      border: none;\n",
              "      border-radius: 50%;\n",
              "      cursor: pointer;\n",
              "      display: none;\n",
              "      fill: #1967D2;\n",
              "      height: 32px;\n",
              "      padding: 0 0 0 0;\n",
              "      width: 32px;\n",
              "    }\n",
              "\n",
              "    .colab-df-convert:hover {\n",
              "      background-color: #E2EBFA;\n",
              "      box-shadow: 0px 1px 2px rgba(60, 64, 67, 0.3), 0px 1px 3px 1px rgba(60, 64, 67, 0.15);\n",
              "      fill: #174EA6;\n",
              "    }\n",
              "\n",
              "    [theme=dark] .colab-df-convert {\n",
              "      background-color: #3B4455;\n",
              "      fill: #D2E3FC;\n",
              "    }\n",
              "\n",
              "    [theme=dark] .colab-df-convert:hover {\n",
              "      background-color: #434B5C;\n",
              "      box-shadow: 0px 1px 3px 1px rgba(0, 0, 0, 0.15);\n",
              "      filter: drop-shadow(0px 1px 2px rgba(0, 0, 0, 0.3));\n",
              "      fill: #FFFFFF;\n",
              "    }\n",
              "  </style>\n",
              "\n",
              "      <script>\n",
              "        const buttonEl =\n",
              "          document.querySelector('#df-4fa69ade-2b0b-4bf3-9498-f8caf2b84539 button.colab-df-convert');\n",
              "        buttonEl.style.display =\n",
              "          google.colab.kernel.accessAllowed ? 'block' : 'none';\n",
              "\n",
              "        async function convertToInteractive(key) {\n",
              "          const element = document.querySelector('#df-4fa69ade-2b0b-4bf3-9498-f8caf2b84539');\n",
              "          const dataTable =\n",
              "            await google.colab.kernel.invokeFunction('convertToInteractive',\n",
              "                                                     [key], {});\n",
              "          if (!dataTable) return;\n",
              "\n",
              "          const docLinkHtml = 'Like what you see? Visit the ' +\n",
              "            '<a target=\"_blank\" href=https://colab.research.google.com/notebooks/data_table.ipynb>data table notebook</a>'\n",
              "            + ' to learn more about interactive tables.';\n",
              "          element.innerHTML = '';\n",
              "          dataTable['output_type'] = 'display_data';\n",
              "          await google.colab.output.renderOutput(dataTable, element);\n",
              "          const docLink = document.createElement('div');\n",
              "          docLink.innerHTML = docLinkHtml;\n",
              "          element.appendChild(docLink);\n",
              "        }\n",
              "      </script>\n",
              "    </div>\n",
              "  </div>\n",
              "  "
            ],
            "text/plain": [
              "   Continent_Code      Math\n",
              "1              AS  427.4827\n",
              "11             AS  531.2961\n",
              "25             AS  403.8332\n",
              "27             AS  547.9310\n",
              "30             AS  386.1096\n",
              "33             AS  469.6695\n",
              "35             AS  380.2590\n",
              "36             AS  532.4399\n",
              "37             AS  459.8160\n",
              "38             AS  524.1062\n",
              "39             AS  396.2497\n",
              "43             AS  543.8078\n",
              "49             AS  446.1098\n",
              "56             AS  402.4007\n",
              "59             AS  564.1897\n",
              "63             AS  415.4638\n",
              "69             AS  494.5183"
            ]
          },
          "metadata": {},
          "execution_count": 161
        }
      ]
    },
    {
      "cell_type": "markdown",
      "source": [
        "We can use The Two-Sample t-Test.Because our data values are independent, are randomly sampled from two normal populations and the two independent groups have equal variances.\n",
        "\n",
        " H0: mu1 = mu2\n",
        " \n",
        " H1: mu1 != mu2"
      ],
      "metadata": {
        "id": "D6b6-YsH1fZ3"
      }
    },
    {
      "cell_type": "code",
      "source": [
        "# Calculate test statistics using stats.ttest_ind()\n",
        "indTest = stats.ttest_ind(df3.Math, df4.Math, equal_var=True)\n",
        "indTest.statistic"
      ],
      "metadata": {
        "id": "4UGFIzLz3AlL",
        "colab": {
          "base_uri": "https://localhost:8080/"
        },
        "outputId": "eb3c59c0-d1c5-41a6-f6b9-5aa0c7dd3a76"
      },
      "execution_count": 165,
      "outputs": [
        {
          "output_type": "execute_result",
          "data": {
            "text/plain": [
              "0.870055317967983"
            ]
          },
          "metadata": {},
          "execution_count": 165
        }
      ]
    },
    {
      "cell_type": "code",
      "source": [
        "indTest.pvalue"
      ],
      "metadata": {
        "colab": {
          "base_uri": "https://localhost:8080/"
        },
        "id": "6TLkIHNh4wF8",
        "outputId": "ff70ef9d-ae4d-4dd4-92ca-59189c272ff8"
      },
      "execution_count": 166,
      "outputs": [
        {
          "output_type": "execute_result",
          "data": {
            "text/plain": [
              "0.38826888111307345"
            ]
          },
          "metadata": {},
          "execution_count": 166
        }
      ]
    },
    {
      "cell_type": "code",
      "source": [
        "# Decision\n",
        "alpha = 0.05\n",
        "\n",
        "if indTest.pvalue < alpha:\n",
        "    print(\"Reject the null\")\n",
        "else:\n",
        "    print(\"Fail to reject the null\")"
      ],
      "metadata": {
        "colab": {
          "base_uri": "https://localhost:8080/"
        },
        "id": "0oKfaxi347fx",
        "outputId": "2ceaf797-ecaa-48bb-f0d7-ba686ed52647"
      },
      "execution_count": 167,
      "outputs": [
        {
          "output_type": "stream",
          "name": "stdout",
          "text": [
            "Fail to reject the null\n"
          ]
        }
      ]
    },
    {
      "cell_type": "markdown",
      "source": [
        "There is no difference (on the average) for the math scores among European (EU) and Asian (AS) countries (assume normality and equal variances)."
      ],
      "metadata": {
        "id": "2AdnMyCS5EJf"
      }
    },
    {
      "cell_type": "code",
      "source": [
        "fig, axes = plt.subplots(1, 2, figsize=(15, 5), sharey=True)\n",
        "sns.boxplot(ax=axes[0], x=\"Continent_Code\", y=\"Math\", data=df3)  # RUN PLOT  \n",
        "sns.boxplot(ax=axes[1], x=\"Continent_Code\", y=\"Math\", data=df4);  # RUN PLOT   \n"
      ],
      "metadata": {
        "colab": {
          "base_uri": "https://localhost:8080/",
          "height": 334
        },
        "id": "EvbW_D2d70b7",
        "outputId": "eeff30c3-6a13-44cf-c307-c34cb721ddac"
      },
      "execution_count": 186,
      "outputs": [
        {
          "output_type": "display_data",
          "data": {
            "image/png": "[encoded data removed]",
            "text/plain": [
              "<Figure size 1080x360 with 2 Axes>"
            ]
          },
          "metadata": {
            "needs_background": "light"
          }
        }
      ]
    },
    {
      "cell_type": "markdown",
      "source": [
        "EXERCISE 4.The sample dataset has placement test scores (out of 100 points) for four subject areas: English, Reading, Math, and Writing. Students in the sample completed all 4 placement tests when they enrolled in the university. Suppose we are particularly interested in the English and Math sections, and want to determine whether students tended to score higher on their English or Math test, on average. We could use a paired t test to test if there was a significant difference in the average of the two tests.\n",
        "\n",
        "Sample Dataset 2014\n",
        "\n",
        "CHECK: statistic=36.312568981719856, pvalue=3.0710987192210606e-128"
      ],
      "metadata": {
        "id": "bPdF4LndmE1l"
      }
    },
    {
      "cell_type": "code",
      "source": [
        "df0 = pd.read_csv(\"students_2014 - students_2014.csv\")\n",
        "df = df0.copy()"
      ],
      "metadata": {
        "id": "wXSkbjQ1hysf"
      },
      "execution_count": null,
      "outputs": []
    },
    {
      "cell_type": "code",
      "source": [
        "df.sample()"
      ],
      "metadata": {
        "colab": {
          "base_uri": "https://localhost:8080/",
          "height": 162
        },
        "id": "zk6QXgcBiXRc",
        "outputId": "8e0b9670-b1dd-417c-bb3e-686b659d90f0"
      },
      "execution_count": null,
      "outputs": [
        {
          "output_type": "execute_result",
          "data": {
            "text/html": [
              "\n",
              "  <div id=\"df-16e25290-e33d-4657-bc4b-45aeae012743\">\n",
              "    <div class=\"colab-df-container\">\n",
              "      <div>\n",
              "<style scoped>\n",
              "    .dataframe tbody tr th:only-of-type {\n",
              "        vertical-align: middle;\n",
              "    }\n",
              "\n",
              "    .dataframe tbody tr th {\n",
              "        vertical-align: top;\n",
              "    }\n",
              "\n",
              "    .dataframe thead th {\n",
              "        text-align: right;\n",
              "    }\n",
              "</style>\n",
              "<table border=\"1\" class=\"dataframe\">\n",
              "  <thead>\n",
              "    <tr style=\"text-align: right;\">\n",
              "      <th></th>\n",
              "      <th>ids</th>\n",
              "      <th>bday</th>\n",
              "      <th>enrolldate</th>\n",
              "      <th>expgradate</th>\n",
              "      <th>Rank</th>\n",
              "      <th>Major</th>\n",
              "      <th>Gender</th>\n",
              "      <th>Athlete</th>\n",
              "      <th>Height</th>\n",
              "      <th>Weight</th>\n",
              "      <th>Smoking</th>\n",
              "      <th>Sprint</th>\n",
              "      <th>MileMinDur</th>\n",
              "      <th>English</th>\n",
              "      <th>Reading</th>\n",
              "      <th>Math</th>\n",
              "      <th>Writing</th>\n",
              "      <th>State</th>\n",
              "      <th>LiveOnCampus</th>\n",
              "      <th>HowCommute</th>\n",
              "      <th>CommuteTime</th>\n",
              "      <th>SleepTime</th>\n",
              "      <th>StudyTime</th>\n",
              "    </tr>\n",
              "  </thead>\n",
              "  <tbody>\n",
              "    <tr>\n",
              "      <th>55</th>\n",
              "      <td>38775</td>\n",
              "      <td>5/21/1995</td>\n",
              "      <td>4-Aug-2014</td>\n",
              "      <td>13-May-2019</td>\n",
              "      <td>1.0</td>\n",
              "      <td>Finance</td>\n",
              "      <td>0.0</td>\n",
              "      <td>1</td>\n",
              "      <td>70.58</td>\n",
              "      <td>152.7</td>\n",
              "      <td>0.0</td>\n",
              "      <td>NaN</td>\n",
              "      <td>0:06:01</td>\n",
              "      <td>79.64</td>\n",
              "      <td>68.83</td>\n",
              "      <td>47.62</td>\n",
              "      <td>77.11</td>\n",
              "      <td>In state</td>\n",
              "      <td>1.0</td>\n",
              "      <td>NaN</td>\n",
              "      <td>NaN</td>\n",
              "      <td>5.0</td>\n",
              "      <td>5.0</td>\n",
              "    </tr>\n",
              "  </tbody>\n",
              "</table>\n",
              "</div>\n",
              "      <button class=\"colab-df-convert\" onclick=\"convertToInteractive('df-16e25290-e33d-4657-bc4b-45aeae012743')\"\n",
              "              title=\"Convert this dataframe to an interactive table.\"\n",
              "              style=\"display:none;\">\n",
              "        \n",
              "  <svg xmlns=\"http://www.w3.org/2000/svg\" height=\"24px\"viewBox=\"0 0 24 24\"\n",
              "       width=\"24px\">\n",
              "    <path d=\"M0 0h24v24H0V0z\" fill=\"none\"/>\n",
              "    <path d=\"M18.56 5.44l.94 2.06.94-2.06 2.06-.94-2.06-.94-.94-2.06-.94 2.06-2.06.94zm-11 1L8.5 8.5l.94-2.06 2.06-.94-2.06-.94L8.5 2.5l-.94 2.06-2.06.94zm10 10l.94 2.06.94-2.06 2.06-.94-2.06-.94-.94-2.06-.94 2.06-2.06.94z\"/><path d=\"M17.41 7.96l-1.37-1.37c-.4-.4-.92-.59-1.43-.59-.52 0-1.04.2-1.43.59L10.3 9.45l-7.72 7.72c-.78.78-.78 2.05 0 2.83L4 21.41c.39.39.9.59 1.41.59.51 0 1.02-.2 1.41-.59l7.78-7.78 2.81-2.81c.8-.78.8-2.07 0-2.86zM5.41 20L4 18.59l7.72-7.72 1.47 1.35L5.41 20z\"/>\n",
              "  </svg>\n",
              "      </button>\n",
              "      \n",
              "  <style>\n",
              "    .colab-df-container {\n",
              "      display:flex;\n",
              "      flex-wrap:wrap;\n",
              "      gap: 12px;\n",
              "    }\n",
              "\n",
              "    .colab-df-convert {\n",
              "      background-color: #E8F0FE;\n",
              "      border: none;\n",
              "      border-radius: 50%;\n",
              "      cursor: pointer;\n",
              "      display: none;\n",
              "      fill: #1967D2;\n",
              "      height: 32px;\n",
              "      padding: 0 0 0 0;\n",
              "      width: 32px;\n",
              "    }\n",
              "\n",
              "    .colab-df-convert:hover {\n",
              "      background-color: #E2EBFA;\n",
              "      box-shadow: 0px 1px 2px rgba(60, 64, 67, 0.3), 0px 1px 3px 1px rgba(60, 64, 67, 0.15);\n",
              "      fill: #174EA6;\n",
              "    }\n",
              "\n",
              "    [theme=dark] .colab-df-convert {\n",
              "      background-color: #3B4455;\n",
              "      fill: #D2E3FC;\n",
              "    }\n",
              "\n",
              "    [theme=dark] .colab-df-convert:hover {\n",
              "      background-color: #434B5C;\n",
              "      box-shadow: 0px 1px 3px 1px rgba(0, 0, 0, 0.15);\n",
              "      filter: drop-shadow(0px 1px 2px rgba(0, 0, 0, 0.3));\n",
              "      fill: #FFFFFF;\n",
              "    }\n",
              "  </style>\n",
              "\n",
              "      <script>\n",
              "        const buttonEl =\n",
              "          document.querySelector('#df-16e25290-e33d-4657-bc4b-45aeae012743 button.colab-df-convert');\n",
              "        buttonEl.style.display =\n",
              "          google.colab.kernel.accessAllowed ? 'block' : 'none';\n",
              "\n",
              "        async function convertToInteractive(key) {\n",
              "          const element = document.querySelector('#df-16e25290-e33d-4657-bc4b-45aeae012743');\n",
              "          const dataTable =\n",
              "            await google.colab.kernel.invokeFunction('convertToInteractive',\n",
              "                                                     [key], {});\n",
              "          if (!dataTable) return;\n",
              "\n",
              "          const docLinkHtml = 'Like what you see? Visit the ' +\n",
              "            '<a target=\"_blank\" href=https://colab.research.google.com/notebooks/data_table.ipynb>data table notebook</a>'\n",
              "            + ' to learn more about interactive tables.';\n",
              "          element.innerHTML = '';\n",
              "          dataTable['output_type'] = 'display_data';\n",
              "          await google.colab.output.renderOutput(dataTable, element);\n",
              "          const docLink = document.createElement('div');\n",
              "          docLink.innerHTML = docLinkHtml;\n",
              "          element.appendChild(docLink);\n",
              "        }\n",
              "      </script>\n",
              "    </div>\n",
              "  </div>\n",
              "  "
            ],
            "text/plain": [
              "      ids       bday  enrolldate  ... CommuteTime  SleepTime StudyTime\n",
              "55  38775  5/21/1995  4-Aug-2014  ...         NaN        5.0       5.0\n",
              "\n",
              "[1 rows x 23 columns]"
            ]
          },
          "metadata": {},
          "execution_count": 71
        }
      ]
    },
    {
      "cell_type": "code",
      "source": [
        "df.info()"
      ],
      "metadata": {
        "colab": {
          "base_uri": "https://localhost:8080/"
        },
        "id": "8DkvHUujhyle",
        "outputId": "fdaa3af1-7aaa-4a26-e8e5-3a4d7a963508"
      },
      "execution_count": null,
      "outputs": [
        {
          "output_type": "stream",
          "name": "stdout",
          "text": [
            "<class 'pandas.core.frame.DataFrame'>\n",
            "RangeIndex: 435 entries, 0 to 434\n",
            "Data columns (total 23 columns):\n",
            " #   Column        Non-Null Count  Dtype  \n",
            "---  ------        --------------  -----  \n",
            " 0   ids           435 non-null    int64  \n",
            " 1   bday          427 non-null    object \n",
            " 2   enrolldate    406 non-null    object \n",
            " 3   expgradate    406 non-null    object \n",
            " 4   Rank          406 non-null    float64\n",
            " 5   Major         276 non-null    object \n",
            " 6   Gender        426 non-null    float64\n",
            " 7   Athlete       435 non-null    int64  \n",
            " 8   Height        408 non-null    float64\n",
            " 9   Weight        376 non-null    float64\n",
            " 10  Smoking       411 non-null    float64\n",
            " 11  Sprint        374 non-null    float64\n",
            " 12  MileMinDur    392 non-null    object \n",
            " 13  English       409 non-null    float64\n",
            " 14  Reading       425 non-null    float64\n",
            " 15  Math          422 non-null    float64\n",
            " 16  Writing       404 non-null    float64\n",
            " 17  State         408 non-null    object \n",
            " 18  LiveOnCampus  414 non-null    float64\n",
            " 19  HowCommute    247 non-null    float64\n",
            " 20  CommuteTime   247 non-null    float64\n",
            " 21  SleepTime     403 non-null    float64\n",
            " 22  StudyTime     393 non-null    float64\n",
            "dtypes: float64(15), int64(2), object(6)\n",
            "memory usage: 78.3+ KB\n"
          ]
        }
      ]
    },
    {
      "cell_type": "code",
      "source": [
        "df.describe(include=\"all\").T"
      ],
      "metadata": {
        "colab": {
          "base_uri": "https://localhost:8080/",
          "height": 770
        },
        "id": "sZ6pGQq4izxn",
        "outputId": "0ec290aa-1b2f-4dab-8ffd-d57a548c57bb"
      },
      "execution_count": null,
      "outputs": [
        {
          "output_type": "execute_result",
          "data": {
            "text/html": [
              "\n",
              "  <div id=\"df-c48a927e-5ff0-4a33-8462-ea162b2becbf\">\n",
              "    <div class=\"colab-df-container\">\n",
              "      <div>\n",
              "<style scoped>\n",
              "    .dataframe tbody tr th:only-of-type {\n",
              "        vertical-align: middle;\n",
              "    }\n",
              "\n",
              "    .dataframe tbody tr th {\n",
              "        vertical-align: top;\n",
              "    }\n",
              "\n",
              "    .dataframe thead th {\n",
              "        text-align: right;\n",
              "    }\n",
              "</style>\n",
              "<table border=\"1\" class=\"dataframe\">\n",
              "  <thead>\n",
              "    <tr style=\"text-align: right;\">\n",
              "      <th></th>\n",
              "      <th>count</th>\n",
              "      <th>unique</th>\n",
              "      <th>top</th>\n",
              "      <th>freq</th>\n",
              "      <th>mean</th>\n",
              "      <th>std</th>\n",
              "      <th>min</th>\n",
              "      <th>25%</th>\n",
              "      <th>50%</th>\n",
              "      <th>75%</th>\n",
              "      <th>max</th>\n",
              "    </tr>\n",
              "  </thead>\n",
              "  <tbody>\n",
              "    <tr>\n",
              "      <th>ids</th>\n",
              "      <td>435.0</td>\n",
              "      <td>NaN</td>\n",
              "      <td>NaN</td>\n",
              "      <td>NaN</td>\n",
              "      <td>35279.022989</td>\n",
              "      <td>8637.733605</td>\n",
              "      <td>20183.0</td>\n",
              "      <td>28001.0</td>\n",
              "      <td>35350.0</td>\n",
              "      <td>42655.5</td>\n",
              "      <td>49947.0</td>\n",
              "    </tr>\n",
              "    <tr>\n",
              "      <th>bday</th>\n",
              "      <td>427</td>\n",
              "      <td>398</td>\n",
              "      <td>10/22/1991</td>\n",
              "      <td>2</td>\n",
              "      <td>NaN</td>\n",
              "      <td>NaN</td>\n",
              "      <td>NaN</td>\n",
              "      <td>NaN</td>\n",
              "      <td>NaN</td>\n",
              "      <td>NaN</td>\n",
              "      <td>NaN</td>\n",
              "    </tr>\n",
              "    <tr>\n",
              "      <th>enrolldate</th>\n",
              "      <td>406</td>\n",
              "      <td>4</td>\n",
              "      <td>4-Aug-2014</td>\n",
              "      <td>147</td>\n",
              "      <td>NaN</td>\n",
              "      <td>NaN</td>\n",
              "      <td>NaN</td>\n",
              "      <td>NaN</td>\n",
              "      <td>NaN</td>\n",
              "      <td>NaN</td>\n",
              "      <td>NaN</td>\n",
              "    </tr>\n",
              "    <tr>\n",
              "      <th>expgradate</th>\n",
              "      <td>406</td>\n",
              "      <td>5</td>\n",
              "      <td>13-May-2019</td>\n",
              "      <td>117</td>\n",
              "      <td>NaN</td>\n",
              "      <td>NaN</td>\n",
              "      <td>NaN</td>\n",
              "      <td>NaN</td>\n",
              "      <td>NaN</td>\n",
              "      <td>NaN</td>\n",
              "      <td>NaN</td>\n",
              "    </tr>\n",
              "    <tr>\n",
              "      <th>Rank</th>\n",
              "      <td>406.0</td>\n",
              "      <td>NaN</td>\n",
              "      <td>NaN</td>\n",
              "      <td>NaN</td>\n",
              "      <td>2.199507</td>\n",
              "      <td>1.098641</td>\n",
              "      <td>1.0</td>\n",
              "      <td>1.0</td>\n",
              "      <td>2.0</td>\n",
              "      <td>3.0</td>\n",
              "      <td>4.0</td>\n",
              "    </tr>\n",
              "    <tr>\n",
              "      <th>Major</th>\n",
              "      <td>276</td>\n",
              "      <td>247</td>\n",
              "      <td>nursing</td>\n",
              "      <td>5</td>\n",
              "      <td>NaN</td>\n",
              "      <td>NaN</td>\n",
              "      <td>NaN</td>\n",
              "      <td>NaN</td>\n",
              "      <td>NaN</td>\n",
              "      <td>NaN</td>\n",
              "      <td>NaN</td>\n",
              "    </tr>\n",
              "    <tr>\n",
              "      <th>Gender</th>\n",
              "      <td>426.0</td>\n",
              "      <td>NaN</td>\n",
              "      <td>NaN</td>\n",
              "      <td>NaN</td>\n",
              "      <td>0.521127</td>\n",
              "      <td>0.500141</td>\n",
              "      <td>0.0</td>\n",
              "      <td>0.0</td>\n",
              "      <td>1.0</td>\n",
              "      <td>1.0</td>\n",
              "      <td>1.0</td>\n",
              "    </tr>\n",
              "    <tr>\n",
              "      <th>Athlete</th>\n",
              "      <td>435.0</td>\n",
              "      <td>NaN</td>\n",
              "      <td>NaN</td>\n",
              "      <td>NaN</td>\n",
              "      <td>0.422989</td>\n",
              "      <td>0.494602</td>\n",
              "      <td>0.0</td>\n",
              "      <td>0.0</td>\n",
              "      <td>0.0</td>\n",
              "      <td>1.0</td>\n",
              "      <td>1.0</td>\n",
              "    </tr>\n",
              "    <tr>\n",
              "      <th>Height</th>\n",
              "      <td>408.0</td>\n",
              "      <td>NaN</td>\n",
              "      <td>NaN</td>\n",
              "      <td>NaN</td>\n",
              "      <td>68.031765</td>\n",
              "      <td>5.325655</td>\n",
              "      <td>55.0</td>\n",
              "      <td>64.8275</td>\n",
              "      <td>67.57</td>\n",
              "      <td>71.575</td>\n",
              "      <td>84.41</td>\n",
              "    </tr>\n",
              "    <tr>\n",
              "      <th>Weight</th>\n",
              "      <td>376.0</td>\n",
              "      <td>NaN</td>\n",
              "      <td>NaN</td>\n",
              "      <td>NaN</td>\n",
              "      <td>181.031569</td>\n",
              "      <td>42.74968</td>\n",
              "      <td>101.71</td>\n",
              "      <td>153.86</td>\n",
              "      <td>172.96</td>\n",
              "      <td>204.3075</td>\n",
              "      <td>350.07</td>\n",
              "    </tr>\n",
              "    <tr>\n",
              "      <th>Smoking</th>\n",
              "      <td>411.0</td>\n",
              "      <td>NaN</td>\n",
              "      <td>NaN</td>\n",
              "      <td>NaN</td>\n",
              "      <td>0.430657</td>\n",
              "      <td>0.766324</td>\n",
              "      <td>0.0</td>\n",
              "      <td>0.0</td>\n",
              "      <td>0.0</td>\n",
              "      <td>1.0</td>\n",
              "      <td>2.0</td>\n",
              "    </tr>\n",
              "    <tr>\n",
              "      <th>Sprint</th>\n",
              "      <td>374.0</td>\n",
              "      <td>NaN</td>\n",
              "      <td>NaN</td>\n",
              "      <td>NaN</td>\n",
              "      <td>6.581933</td>\n",
              "      <td>1.227069</td>\n",
              "      <td>4.503</td>\n",
              "      <td>5.5875</td>\n",
              "      <td>6.569</td>\n",
              "      <td>7.458</td>\n",
              "      <td>9.597</td>\n",
              "    </tr>\n",
              "    <tr>\n",
              "      <th>MileMinDur</th>\n",
              "      <td>392</td>\n",
              "      <td>244</td>\n",
              "      <td>0:06:27</td>\n",
              "      <td>6</td>\n",
              "      <td>NaN</td>\n",
              "      <td>NaN</td>\n",
              "      <td>NaN</td>\n",
              "      <td>NaN</td>\n",
              "      <td>NaN</td>\n",
              "      <td>NaN</td>\n",
              "      <td>NaN</td>\n",
              "    </tr>\n",
              "    <tr>\n",
              "      <th>English</th>\n",
              "      <td>409.0</td>\n",
              "      <td>NaN</td>\n",
              "      <td>NaN</td>\n",
              "      <td>NaN</td>\n",
              "      <td>82.787555</td>\n",
              "      <td>6.839803</td>\n",
              "      <td>59.83</td>\n",
              "      <td>78.33</td>\n",
              "      <td>83.15</td>\n",
              "      <td>87.17</td>\n",
              "      <td>101.95</td>\n",
              "    </tr>\n",
              "    <tr>\n",
              "      <th>Reading</th>\n",
              "      <td>425.0</td>\n",
              "      <td>NaN</td>\n",
              "      <td>NaN</td>\n",
              "      <td>NaN</td>\n",
              "      <td>82.0708</td>\n",
              "      <td>7.661778</td>\n",
              "      <td>55.11</td>\n",
              "      <td>77.19</td>\n",
              "      <td>81.94</td>\n",
              "      <td>87.08</td>\n",
              "      <td>103.62</td>\n",
              "    </tr>\n",
              "    <tr>\n",
              "      <th>Math</th>\n",
              "      <td>422.0</td>\n",
              "      <td>NaN</td>\n",
              "      <td>NaN</td>\n",
              "      <td>NaN</td>\n",
              "      <td>65.468009</td>\n",
              "      <td>8.37593</td>\n",
              "      <td>35.32</td>\n",
              "      <td>60.2025</td>\n",
              "      <td>65.445</td>\n",
              "      <td>70.5675</td>\n",
              "      <td>93.78</td>\n",
              "    </tr>\n",
              "    <tr>\n",
              "      <th>Writing</th>\n",
              "      <td>404.0</td>\n",
              "      <td>NaN</td>\n",
              "      <td>NaN</td>\n",
              "      <td>NaN</td>\n",
              "      <td>79.521683</td>\n",
              "      <td>5.51141</td>\n",
              "      <td>64.06</td>\n",
              "      <td>75.75</td>\n",
              "      <td>79.035</td>\n",
              "      <td>83.6875</td>\n",
              "      <td>93.01</td>\n",
              "    </tr>\n",
              "    <tr>\n",
              "      <th>State</th>\n",
              "      <td>408</td>\n",
              "      <td>2</td>\n",
              "      <td>In state</td>\n",
              "      <td>314</td>\n",
              "      <td>NaN</td>\n",
              "      <td>NaN</td>\n",
              "      <td>NaN</td>\n",
              "      <td>NaN</td>\n",
              "      <td>NaN</td>\n",
              "      <td>NaN</td>\n",
              "      <td>NaN</td>\n",
              "    </tr>\n",
              "    <tr>\n",
              "      <th>LiveOnCampus</th>\n",
              "      <td>414.0</td>\n",
              "      <td>NaN</td>\n",
              "      <td>NaN</td>\n",
              "      <td>NaN</td>\n",
              "      <td>0.410628</td>\n",
              "      <td>0.492543</td>\n",
              "      <td>0.0</td>\n",
              "      <td>0.0</td>\n",
              "      <td>0.0</td>\n",
              "      <td>1.0</td>\n",
              "      <td>1.0</td>\n",
              "    </tr>\n",
              "    <tr>\n",
              "      <th>HowCommute</th>\n",
              "      <td>247.0</td>\n",
              "      <td>NaN</td>\n",
              "      <td>NaN</td>\n",
              "      <td>NaN</td>\n",
              "      <td>2.781377</td>\n",
              "      <td>0.698996</td>\n",
              "      <td>1.0</td>\n",
              "      <td>3.0</td>\n",
              "      <td>3.0</td>\n",
              "      <td>3.0</td>\n",
              "      <td>4.0</td>\n",
              "    </tr>\n",
              "    <tr>\n",
              "      <th>CommuteTime</th>\n",
              "      <td>247.0</td>\n",
              "      <td>NaN</td>\n",
              "      <td>NaN</td>\n",
              "      <td>NaN</td>\n",
              "      <td>27.0</td>\n",
              "      <td>10.072905</td>\n",
              "      <td>4.0</td>\n",
              "      <td>21.0</td>\n",
              "      <td>27.0</td>\n",
              "      <td>32.0</td>\n",
              "      <td>64.0</td>\n",
              "    </tr>\n",
              "    <tr>\n",
              "      <th>SleepTime</th>\n",
              "      <td>403.0</td>\n",
              "      <td>NaN</td>\n",
              "      <td>NaN</td>\n",
              "      <td>NaN</td>\n",
              "      <td>5.461538</td>\n",
              "      <td>2.421994</td>\n",
              "      <td>0.0</td>\n",
              "      <td>4.0</td>\n",
              "      <td>5.0</td>\n",
              "      <td>7.0</td>\n",
              "      <td>13.0</td>\n",
              "    </tr>\n",
              "    <tr>\n",
              "      <th>StudyTime</th>\n",
              "      <td>393.0</td>\n",
              "      <td>NaN</td>\n",
              "      <td>NaN</td>\n",
              "      <td>NaN</td>\n",
              "      <td>7.208651</td>\n",
              "      <td>4.356233</td>\n",
              "      <td>0.0</td>\n",
              "      <td>4.0</td>\n",
              "      <td>6.0</td>\n",
              "      <td>10.0</td>\n",
              "      <td>23.0</td>\n",
              "    </tr>\n",
              "  </tbody>\n",
              "</table>\n",
              "</div>\n",
              "      <button class=\"colab-df-convert\" onclick=\"convertToInteractive('df-c48a927e-5ff0-4a33-8462-ea162b2becbf')\"\n",
              "              title=\"Convert this dataframe to an interactive table.\"\n",
              "              style=\"display:none;\">\n",
              "        \n",
              "  <svg xmlns=\"http://www.w3.org/2000/svg\" height=\"24px\"viewBox=\"0 0 24 24\"\n",
              "       width=\"24px\">\n",
              "    <path d=\"M0 0h24v24H0V0z\" fill=\"none\"/>\n",
              "    <path d=\"M18.56 5.44l.94 2.06.94-2.06 2.06-.94-2.06-.94-.94-2.06-.94 2.06-2.06.94zm-11 1L8.5 8.5l.94-2.06 2.06-.94-2.06-.94L8.5 2.5l-.94 2.06-2.06.94zm10 10l.94 2.06.94-2.06 2.06-.94-2.06-.94-.94-2.06-.94 2.06-2.06.94z\"/><path d=\"M17.41 7.96l-1.37-1.37c-.4-.4-.92-.59-1.43-.59-.52 0-1.04.2-1.43.59L10.3 9.45l-7.72 7.72c-.78.78-.78 2.05 0 2.83L4 21.41c.39.39.9.59 1.41.59.51 0 1.02-.2 1.41-.59l7.78-7.78 2.81-2.81c.8-.78.8-2.07 0-2.86zM5.41 20L4 18.59l7.72-7.72 1.47 1.35L5.41 20z\"/>\n",
              "  </svg>\n",
              "      </button>\n",
              "      \n",
              "  <style>\n",
              "    .colab-df-container {\n",
              "      display:flex;\n",
              "      flex-wrap:wrap;\n",
              "      gap: 12px;\n",
              "    }\n",
              "\n",
              "    .colab-df-convert {\n",
              "      background-color: #E8F0FE;\n",
              "      border: none;\n",
              "      border-radius: 50%;\n",
              "      cursor: pointer;\n",
              "      display: none;\n",
              "      fill: #1967D2;\n",
              "      height: 32px;\n",
              "      padding: 0 0 0 0;\n",
              "      width: 32px;\n",
              "    }\n",
              "\n",
              "    .colab-df-convert:hover {\n",
              "      background-color: #E2EBFA;\n",
              "      box-shadow: 0px 1px 2px rgba(60, 64, 67, 0.3), 0px 1px 3px 1px rgba(60, 64, 67, 0.15);\n",
              "      fill: #174EA6;\n",
              "    }\n",
              "\n",
              "    [theme=dark] .colab-df-convert {\n",
              "      background-color: #3B4455;\n",
              "      fill: #D2E3FC;\n",
              "    }\n",
              "\n",
              "    [theme=dark] .colab-df-convert:hover {\n",
              "      background-color: #434B5C;\n",
              "      box-shadow: 0px 1px 3px 1px rgba(0, 0, 0, 0.15);\n",
              "      filter: drop-shadow(0px 1px 2px rgba(0, 0, 0, 0.3));\n",
              "      fill: #FFFFFF;\n",
              "    }\n",
              "  </style>\n",
              "\n",
              "      <script>\n",
              "        const buttonEl =\n",
              "          document.querySelector('#df-c48a927e-5ff0-4a33-8462-ea162b2becbf button.colab-df-convert');\n",
              "        buttonEl.style.display =\n",
              "          google.colab.kernel.accessAllowed ? 'block' : 'none';\n",
              "\n",
              "        async function convertToInteractive(key) {\n",
              "          const element = document.querySelector('#df-c48a927e-5ff0-4a33-8462-ea162b2becbf');\n",
              "          const dataTable =\n",
              "            await google.colab.kernel.invokeFunction('convertToInteractive',\n",
              "                                                     [key], {});\n",
              "          if (!dataTable) return;\n",
              "\n",
              "          const docLinkHtml = 'Like what you see? Visit the ' +\n",
              "            '<a target=\"_blank\" href=https://colab.research.google.com/notebooks/data_table.ipynb>data table notebook</a>'\n",
              "            + ' to learn more about interactive tables.';\n",
              "          element.innerHTML = '';\n",
              "          dataTable['output_type'] = 'display_data';\n",
              "          await google.colab.output.renderOutput(dataTable, element);\n",
              "          const docLink = document.createElement('div');\n",
              "          docLink.innerHTML = docLinkHtml;\n",
              "          element.appendChild(docLink);\n",
              "        }\n",
              "      </script>\n",
              "    </div>\n",
              "  </div>\n",
              "  "
            ],
            "text/plain": [
              "              count unique          top  ...      50%       75%      max\n",
              "ids           435.0    NaN          NaN  ...  35350.0   42655.5  49947.0\n",
              "bday            427    398   10/22/1991  ...      NaN       NaN      NaN\n",
              "enrolldate      406      4   4-Aug-2014  ...      NaN       NaN      NaN\n",
              "expgradate      406      5  13-May-2019  ...      NaN       NaN      NaN\n",
              "Rank          406.0    NaN          NaN  ...      2.0       3.0      4.0\n",
              "Major           276    247      nursing  ...      NaN       NaN      NaN\n",
              "Gender        426.0    NaN          NaN  ...      1.0       1.0      1.0\n",
              "Athlete       435.0    NaN          NaN  ...      0.0       1.0      1.0\n",
              "Height        408.0    NaN          NaN  ...    67.57    71.575    84.41\n",
              "Weight        376.0    NaN          NaN  ...   172.96  204.3075   350.07\n",
              "Smoking       411.0    NaN          NaN  ...      0.0       1.0      2.0\n",
              "Sprint        374.0    NaN          NaN  ...    6.569     7.458    9.597\n",
              "MileMinDur      392    244      0:06:27  ...      NaN       NaN      NaN\n",
              "English       409.0    NaN          NaN  ...    83.15     87.17   101.95\n",
              "Reading       425.0    NaN          NaN  ...    81.94     87.08   103.62\n",
              "Math          422.0    NaN          NaN  ...   65.445   70.5675    93.78\n",
              "Writing       404.0    NaN          NaN  ...   79.035   83.6875    93.01\n",
              "State           408      2     In state  ...      NaN       NaN      NaN\n",
              "LiveOnCampus  414.0    NaN          NaN  ...      0.0       1.0      1.0\n",
              "HowCommute    247.0    NaN          NaN  ...      3.0       3.0      4.0\n",
              "CommuteTime   247.0    NaN          NaN  ...     27.0      32.0     64.0\n",
              "SleepTime     403.0    NaN          NaN  ...      5.0       7.0     13.0\n",
              "StudyTime     393.0    NaN          NaN  ...      6.0      10.0     23.0\n",
              "\n",
              "[23 rows x 11 columns]"
            ]
          },
          "metadata": {},
          "execution_count": 74
        }
      ]
    },
    {
      "cell_type": "code",
      "source": [
        "df = df0.loc[:,[\"English\",\"Math\"]]\n",
        "df"
      ],
      "metadata": {
        "colab": {
          "base_uri": "https://localhost:8080/",
          "height": 423
        },
        "id": "0g9CjNzQmaBH",
        "outputId": "36d42728-f20f-4bb5-d608-3a785b039770"
      },
      "execution_count": null,
      "outputs": [
        {
          "output_type": "execute_result",
          "data": {
            "text/html": [
              "\n",
              "  <div id=\"df-7b26ec47-6f74-4289-9b8b-fc346e8e97bf\">\n",
              "    <div class=\"colab-df-container\">\n",
              "      <div>\n",
              "<style scoped>\n",
              "    .dataframe tbody tr th:only-of-type {\n",
              "        vertical-align: middle;\n",
              "    }\n",
              "\n",
              "    .dataframe tbody tr th {\n",
              "        vertical-align: top;\n",
              "    }\n",
              "\n",
              "    .dataframe thead th {\n",
              "        text-align: right;\n",
              "    }\n",
              "</style>\n",
              "<table border=\"1\" class=\"dataframe\">\n",
              "  <thead>\n",
              "    <tr style=\"text-align: right;\">\n",
              "      <th></th>\n",
              "      <th>English</th>\n",
              "      <th>Math</th>\n",
              "    </tr>\n",
              "  </thead>\n",
              "  <tbody>\n",
              "    <tr>\n",
              "      <th>0</th>\n",
              "      <td>88.24</td>\n",
              "      <td>60.02</td>\n",
              "    </tr>\n",
              "    <tr>\n",
              "      <th>1</th>\n",
              "      <td>89.45</td>\n",
              "      <td>70.19</td>\n",
              "    </tr>\n",
              "    <tr>\n",
              "      <th>2</th>\n",
              "      <td>96.73</td>\n",
              "      <td>71.20</td>\n",
              "    </tr>\n",
              "    <tr>\n",
              "      <th>3</th>\n",
              "      <td>74.06</td>\n",
              "      <td>55.89</td>\n",
              "    </tr>\n",
              "    <tr>\n",
              "      <th>4</th>\n",
              "      <td>82.61</td>\n",
              "      <td>65.52</td>\n",
              "    </tr>\n",
              "    <tr>\n",
              "      <th>...</th>\n",
              "      <td>...</td>\n",
              "      <td>...</td>\n",
              "    </tr>\n",
              "    <tr>\n",
              "      <th>430</th>\n",
              "      <td>87.72</td>\n",
              "      <td>65.31</td>\n",
              "    </tr>\n",
              "    <tr>\n",
              "      <th>431</th>\n",
              "      <td>91.01</td>\n",
              "      <td>70.25</td>\n",
              "    </tr>\n",
              "    <tr>\n",
              "      <th>432</th>\n",
              "      <td>81.05</td>\n",
              "      <td>58.16</td>\n",
              "    </tr>\n",
              "    <tr>\n",
              "      <th>433</th>\n",
              "      <td>75.59</td>\n",
              "      <td>66.84</td>\n",
              "    </tr>\n",
              "    <tr>\n",
              "      <th>434</th>\n",
              "      <td>75.65</td>\n",
              "      <td>60.24</td>\n",
              "    </tr>\n",
              "  </tbody>\n",
              "</table>\n",
              "<p>435 rows × 2 columns</p>\n",
              "</div>\n",
              "      <button class=\"colab-df-convert\" onclick=\"convertToInteractive('df-7b26ec47-6f74-4289-9b8b-fc346e8e97bf')\"\n",
              "              title=\"Convert this dataframe to an interactive table.\"\n",
              "              style=\"display:none;\">\n",
              "        \n",
              "  <svg xmlns=\"http://www.w3.org/2000/svg\" height=\"24px\"viewBox=\"0 0 24 24\"\n",
              "       width=\"24px\">\n",
              "    <path d=\"M0 0h24v24H0V0z\" fill=\"none\"/>\n",
              "    <path d=\"M18.56 5.44l.94 2.06.94-2.06 2.06-.94-2.06-.94-.94-2.06-.94 2.06-2.06.94zm-11 1L8.5 8.5l.94-2.06 2.06-.94-2.06-.94L8.5 2.5l-.94 2.06-2.06.94zm10 10l.94 2.06.94-2.06 2.06-.94-2.06-.94-.94-2.06-.94 2.06-2.06.94z\"/><path d=\"M17.41 7.96l-1.37-1.37c-.4-.4-.92-.59-1.43-.59-.52 0-1.04.2-1.43.59L10.3 9.45l-7.72 7.72c-.78.78-.78 2.05 0 2.83L4 21.41c.39.39.9.59 1.41.59.51 0 1.02-.2 1.41-.59l7.78-7.78 2.81-2.81c.8-.78.8-2.07 0-2.86zM5.41 20L4 18.59l7.72-7.72 1.47 1.35L5.41 20z\"/>\n",
              "  </svg>\n",
              "      </button>\n",
              "      \n",
              "  <style>\n",
              "    .colab-df-container {\n",
              "      display:flex;\n",
              "      flex-wrap:wrap;\n",
              "      gap: 12px;\n",
              "    }\n",
              "\n",
              "    .colab-df-convert {\n",
              "      background-color: #E8F0FE;\n",
              "      border: none;\n",
              "      border-radius: 50%;\n",
              "      cursor: pointer;\n",
              "      display: none;\n",
              "      fill: #1967D2;\n",
              "      height: 32px;\n",
              "      padding: 0 0 0 0;\n",
              "      width: 32px;\n",
              "    }\n",
              "\n",
              "    .colab-df-convert:hover {\n",
              "      background-color: #E2EBFA;\n",
              "      box-shadow: 0px 1px 2px rgba(60, 64, 67, 0.3), 0px 1px 3px 1px rgba(60, 64, 67, 0.15);\n",
              "      fill: #174EA6;\n",
              "    }\n",
              "\n",
              "    [theme=dark] .colab-df-convert {\n",
              "      background-color: #3B4455;\n",
              "      fill: #D2E3FC;\n",
              "    }\n",
              "\n",
              "    [theme=dark] .colab-df-convert:hover {\n",
              "      background-color: #434B5C;\n",
              "      box-shadow: 0px 1px 3px 1px rgba(0, 0, 0, 0.15);\n",
              "      filter: drop-shadow(0px 1px 2px rgba(0, 0, 0, 0.3));\n",
              "      fill: #FFFFFF;\n",
              "    }\n",
              "  </style>\n",
              "\n",
              "      <script>\n",
              "        const buttonEl =\n",
              "          document.querySelector('#df-7b26ec47-6f74-4289-9b8b-fc346e8e97bf button.colab-df-convert');\n",
              "        buttonEl.style.display =\n",
              "          google.colab.kernel.accessAllowed ? 'block' : 'none';\n",
              "\n",
              "        async function convertToInteractive(key) {\n",
              "          const element = document.querySelector('#df-7b26ec47-6f74-4289-9b8b-fc346e8e97bf');\n",
              "          const dataTable =\n",
              "            await google.colab.kernel.invokeFunction('convertToInteractive',\n",
              "                                                     [key], {});\n",
              "          if (!dataTable) return;\n",
              "\n",
              "          const docLinkHtml = 'Like what you see? Visit the ' +\n",
              "            '<a target=\"_blank\" href=https://colab.research.google.com/notebooks/data_table.ipynb>data table notebook</a>'\n",
              "            + ' to learn more about interactive tables.';\n",
              "          element.innerHTML = '';\n",
              "          dataTable['output_type'] = 'display_data';\n",
              "          await google.colab.output.renderOutput(dataTable, element);\n",
              "          const docLink = document.createElement('div');\n",
              "          docLink.innerHTML = docLinkHtml;\n",
              "          element.appendChild(docLink);\n",
              "        }\n",
              "      </script>\n",
              "    </div>\n",
              "  </div>\n",
              "  "
            ],
            "text/plain": [
              "     English   Math\n",
              "0      88.24  60.02\n",
              "1      89.45  70.19\n",
              "2      96.73  71.20\n",
              "3      74.06  55.89\n",
              "4      82.61  65.52\n",
              "..       ...    ...\n",
              "430    87.72  65.31\n",
              "431    91.01  70.25\n",
              "432    81.05  58.16\n",
              "433    75.59  66.84\n",
              "434    75.65  60.24\n",
              "\n",
              "[435 rows x 2 columns]"
            ]
          },
          "metadata": {},
          "execution_count": 85
        }
      ]
    },
    {
      "cell_type": "code",
      "source": [
        "df.isnull().sum()"
      ],
      "metadata": {
        "colab": {
          "base_uri": "https://localhost:8080/"
        },
        "id": "F4PwuNG5rK3Z",
        "outputId": "67e78cc0-a08e-4109-ae59-9f58342764c6"
      },
      "execution_count": null,
      "outputs": [
        {
          "output_type": "execute_result",
          "data": {
            "text/plain": [
              "English    26\n",
              "Math       13\n",
              "dtype: int64"
            ]
          },
          "metadata": {},
          "execution_count": 95
        }
      ]
    },
    {
      "cell_type": "code",
      "source": [
        "df.dropna(inplace=True)"
      ],
      "metadata": {
        "id": "xFDJhzPMrSMS"
      },
      "execution_count": null,
      "outputs": []
    },
    {
      "cell_type": "code",
      "source": [
        "df.shape"
      ],
      "metadata": {
        "colab": {
          "base_uri": "https://localhost:8080/"
        },
        "id": "5IUM0G4_szPh",
        "outputId": "c5416d27-7cb4-4492-e8ee-121da4f988b9"
      },
      "execution_count": null,
      "outputs": [
        {
          "output_type": "execute_result",
          "data": {
            "text/plain": [
              "(398, 2)"
            ]
          },
          "metadata": {},
          "execution_count": 109
        }
      ]
    },
    {
      "cell_type": "code",
      "source": [
        "df.isnull().sum()"
      ],
      "metadata": {
        "colab": {
          "base_uri": "https://localhost:8080/"
        },
        "id": "51xg8lC6rYsu",
        "outputId": "6b50e347-7fc7-43b5-a4ee-5e3425c875c3"
      },
      "execution_count": null,
      "outputs": [
        {
          "output_type": "execute_result",
          "data": {
            "text/plain": [
              "English    0\n",
              "Math       0\n",
              "dtype: int64"
            ]
          },
          "metadata": {},
          "execution_count": 97
        }
      ]
    },
    {
      "cell_type": "code",
      "source": [
        "df[\"English\"].mean()"
      ],
      "metadata": {
        "colab": {
          "base_uri": "https://localhost:8080/"
        },
        "id": "CdoxXqHAsHYo",
        "outputId": "3ace430b-691b-489c-a9c8-15d65bddce3f"
      },
      "execution_count": null,
      "outputs": [
        {
          "output_type": "execute_result",
          "data": {
            "text/plain": [
              "82.7440954773869"
            ]
          },
          "metadata": {},
          "execution_count": 108
        }
      ]
    },
    {
      "cell_type": "code",
      "source": [
        "df[\"Math\"].mean()"
      ],
      "metadata": {
        "colab": {
          "base_uri": "https://localhost:8080/"
        },
        "id": "L9mUF9sTsN73",
        "outputId": "e8970488-fa0d-49b4-a838-d95036bd7398"
      },
      "execution_count": null,
      "outputs": [
        {
          "output_type": "execute_result",
          "data": {
            "text/plain": [
              "65.44683417085427"
            ]
          },
          "metadata": {},
          "execution_count": 103
        }
      ]
    },
    {
      "cell_type": "code",
      "source": [
        "df.corr(method='pearson', min_periods=1)"
      ],
      "metadata": {
        "colab": {
          "base_uri": "https://localhost:8080/",
          "height": 112
        },
        "id": "Iw5F8Spls_fG",
        "outputId": "f3101f2d-3681-45fd-c6e5-ec083a6b5413"
      },
      "execution_count": null,
      "outputs": [
        {
          "output_type": "execute_result",
          "data": {
            "text/html": [
              "\n",
              "  <div id=\"df-a0e138a1-0ae6-444f-b5de-2ec7b7f627da\">\n",
              "    <div class=\"colab-df-container\">\n",
              "      <div>\n",
              "<style scoped>\n",
              "    .dataframe tbody tr th:only-of-type {\n",
              "        vertical-align: middle;\n",
              "    }\n",
              "\n",
              "    .dataframe tbody tr th {\n",
              "        vertical-align: top;\n",
              "    }\n",
              "\n",
              "    .dataframe thead th {\n",
              "        text-align: right;\n",
              "    }\n",
              "</style>\n",
              "<table border=\"1\" class=\"dataframe\">\n",
              "  <thead>\n",
              "    <tr style=\"text-align: right;\">\n",
              "      <th></th>\n",
              "      <th>English</th>\n",
              "      <th>Math</th>\n",
              "    </tr>\n",
              "  </thead>\n",
              "  <tbody>\n",
              "    <tr>\n",
              "      <th>English</th>\n",
              "      <td>1.000000</td>\n",
              "      <td>0.243014</td>\n",
              "    </tr>\n",
              "    <tr>\n",
              "      <th>Math</th>\n",
              "      <td>0.243014</td>\n",
              "      <td>1.000000</td>\n",
              "    </tr>\n",
              "  </tbody>\n",
              "</table>\n",
              "</div>\n",
              "      <button class=\"colab-df-convert\" onclick=\"convertToInteractive('df-a0e138a1-0ae6-444f-b5de-2ec7b7f627da')\"\n",
              "              title=\"Convert this dataframe to an interactive table.\"\n",
              "              style=\"display:none;\">\n",
              "        \n",
              "  <svg xmlns=\"http://www.w3.org/2000/svg\" height=\"24px\"viewBox=\"0 0 24 24\"\n",
              "       width=\"24px\">\n",
              "    <path d=\"M0 0h24v24H0V0z\" fill=\"none\"/>\n",
              "    <path d=\"M18.56 5.44l.94 2.06.94-2.06 2.06-.94-2.06-.94-.94-2.06-.94 2.06-2.06.94zm-11 1L8.5 8.5l.94-2.06 2.06-.94-2.06-.94L8.5 2.5l-.94 2.06-2.06.94zm10 10l.94 2.06.94-2.06 2.06-.94-2.06-.94-.94-2.06-.94 2.06-2.06.94z\"/><path d=\"M17.41 7.96l-1.37-1.37c-.4-.4-.92-.59-1.43-.59-.52 0-1.04.2-1.43.59L10.3 9.45l-7.72 7.72c-.78.78-.78 2.05 0 2.83L4 21.41c.39.39.9.59 1.41.59.51 0 1.02-.2 1.41-.59l7.78-7.78 2.81-2.81c.8-.78.8-2.07 0-2.86zM5.41 20L4 18.59l7.72-7.72 1.47 1.35L5.41 20z\"/>\n",
              "  </svg>\n",
              "      </button>\n",
              "      \n",
              "  <style>\n",
              "    .colab-df-container {\n",
              "      display:flex;\n",
              "      flex-wrap:wrap;\n",
              "      gap: 12px;\n",
              "    }\n",
              "\n",
              "    .colab-df-convert {\n",
              "      background-color: #E8F0FE;\n",
              "      border: none;\n",
              "      border-radius: 50%;\n",
              "      cursor: pointer;\n",
              "      display: none;\n",
              "      fill: #1967D2;\n",
              "      height: 32px;\n",
              "      padding: 0 0 0 0;\n",
              "      width: 32px;\n",
              "    }\n",
              "\n",
              "    .colab-df-convert:hover {\n",
              "      background-color: #E2EBFA;\n",
              "      box-shadow: 0px 1px 2px rgba(60, 64, 67, 0.3), 0px 1px 3px 1px rgba(60, 64, 67, 0.15);\n",
              "      fill: #174EA6;\n",
              "    }\n",
              "\n",
              "    [theme=dark] .colab-df-convert {\n",
              "      background-color: #3B4455;\n",
              "      fill: #D2E3FC;\n",
              "    }\n",
              "\n",
              "    [theme=dark] .colab-df-convert:hover {\n",
              "      background-color: #434B5C;\n",
              "      box-shadow: 0px 1px 3px 1px rgba(0, 0, 0, 0.15);\n",
              "      filter: drop-shadow(0px 1px 2px rgba(0, 0, 0, 0.3));\n",
              "      fill: #FFFFFF;\n",
              "    }\n",
              "  </style>\n",
              "\n",
              "      <script>\n",
              "        const buttonEl =\n",
              "          document.querySelector('#df-a0e138a1-0ae6-444f-b5de-2ec7b7f627da button.colab-df-convert');\n",
              "        buttonEl.style.display =\n",
              "          google.colab.kernel.accessAllowed ? 'block' : 'none';\n",
              "\n",
              "        async function convertToInteractive(key) {\n",
              "          const element = document.querySelector('#df-a0e138a1-0ae6-444f-b5de-2ec7b7f627da');\n",
              "          const dataTable =\n",
              "            await google.colab.kernel.invokeFunction('convertToInteractive',\n",
              "                                                     [key], {});\n",
              "          if (!dataTable) return;\n",
              "\n",
              "          const docLinkHtml = 'Like what you see? Visit the ' +\n",
              "            '<a target=\"_blank\" href=https://colab.research.google.com/notebooks/data_table.ipynb>data table notebook</a>'\n",
              "            + ' to learn more about interactive tables.';\n",
              "          element.innerHTML = '';\n",
              "          dataTable['output_type'] = 'display_data';\n",
              "          await google.colab.output.renderOutput(dataTable, element);\n",
              "          const docLink = document.createElement('div');\n",
              "          docLink.innerHTML = docLinkHtml;\n",
              "          element.appendChild(docLink);\n",
              "        }\n",
              "      </script>\n",
              "    </div>\n",
              "  </div>\n",
              "  "
            ],
            "text/plain": [
              "          English      Math\n",
              "English  1.000000  0.243014\n",
              "Math     0.243014  1.000000"
            ]
          },
          "metadata": {},
          "execution_count": 111
        }
      ]
    },
    {
      "cell_type": "markdown",
      "source": [
        "Research question:  if there was a significant difference in the average of the English and Math tests.\n",
        "\n",
        "H0 : μd = 0 (There was no a significant difference in the average of the two tests.)\n",
        "\n",
        "H1 : μd ≠ 0 (There was a significant difference in the average of the two tests.)\n",
        "\n",
        "We could use a paired t test\n",
        "\n",
        "alpha = 0.05"
      ],
      "metadata": {
        "id": "N7LyfZlun7B5"
      }
    },
    {
      "cell_type": "code",
      "source": [
        "# Calculate test statistics using stats.ttest_rel()  \n",
        "# English - Math\n",
        "pairedtest = stats.ttest_rel(df.English, df.Math)\n",
        "pairedtest"
      ],
      "metadata": {
        "colab": {
          "base_uri": "https://localhost:8080/"
        },
        "id": "dWZGt48cpd2a",
        "outputId": "da5587cd-5be1-4869-bf17-487378a8c86a"
      },
      "execution_count": null,
      "outputs": [
        {
          "output_type": "execute_result",
          "data": {
            "text/plain": [
              "Ttest_relResult(statistic=36.312568981719856, pvalue=3.0710987192210606e-128)"
            ]
          },
          "metadata": {},
          "execution_count": 100
        }
      ]
    },
    {
      "cell_type": "code",
      "source": [
        "# Decision\n",
        "alpha = 0.05\n",
        "\n",
        "if pairedtest.pvalue < alpha:\n",
        "    print(\"Reject the Null\")\n",
        "else:\n",
        "    print(\"Fail to reject\")"
      ],
      "metadata": {
        "colab": {
          "base_uri": "https://localhost:8080/"
        },
        "id": "-jJPn-7erlrJ",
        "outputId": "2934ff5f-d05d-42aa-aed8-18668a6a165c"
      },
      "execution_count": null,
      "outputs": [
        {
          "output_type": "stream",
          "name": "stdout",
          "text": [
            "Reject the Null\n"
          ]
        }
      ]
    },
    {
      "cell_type": "markdown",
      "source": [
        "There was a significant difference in the average of the two tests."
      ],
      "metadata": {
        "id": "gXr-TqWrup4K"
      }
    }
  ]
}